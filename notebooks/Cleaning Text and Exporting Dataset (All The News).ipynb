{
 "cells": [
  {
   "cell_type": "markdown",
   "metadata": {},
   "source": [
    "# Cleaning text and export training data (All The News)"
   ]
  },
  {
   "cell_type": "code",
   "execution_count": 1,
   "metadata": {},
   "outputs": [],
   "source": [
    "import pandas as pd\n",
    "import nltk\n",
    "from nltk.tokenize import RegexpTokenizer\n",
    "tokenizer = RegexpTokenizer(r'\\w+')\n",
    "import re\n",
    "import json\n",
    "import numpy as np\n",
    "import glob\n",
    "import matplotlib.pyplot as plt"
   ]
  },
  {
   "cell_type": "markdown",
   "metadata": {},
   "source": [
    "Helper functions"
   ]
  },
  {
   "cell_type": "code",
   "execution_count": 2,
   "metadata": {},
   "outputs": [],
   "source": [
    "with open('contractions.json', 'r') as contractions_file:\n",
    "    contractions_dict = json.load(contractions_file)\n",
    "\n",
    "# expand contractions\n",
    "def expand_contractions(content):\n",
    "    for original, replacement in contractions_dict.items():\n",
    "        content = content.replace(original, replacement)\n",
    "    return content\n",
    "\n",
    "# text cleaning applied to articles from any source\n",
    "def clean_text(text):\n",
    "    # general rules\n",
    "    text = text.replace('U.S.', 'United States')\n",
    "    text = text.replace('U.S', 'United States')\n",
    "    text = text.replace('Associated Press', '')\n",
    "    text = text.replace('U.N.', 'United Nations')\n",
    "    \n",
    "    # lowercase\n",
    "    text = text.lower()\n",
    "    \n",
    "    # expand contractions\n",
    "    text = expand_contractions(text)\n",
    "    \n",
    "    return ' '.join(tokenizer.tokenize(text))"
   ]
  },
  {
   "cell_type": "markdown",
   "metadata": {},
   "source": [
    "## Fox News (N = 1808)"
   ]
  },
  {
   "cell_type": "markdown",
   "metadata": {},
   "source": [
    "Loading dataset of articles selected from webhose and google news scrape"
   ]
  },
  {
   "cell_type": "code",
   "execution_count": 3,
   "metadata": {},
   "outputs": [],
   "source": [
    "dataset = pd.read_csv(\"../data_raw/all_the_news/foxnews.csv\", index_col=0)\n",
    "politics = dataset[dataset['section']=='politics']\n",
    "\n",
    "cleaned_data_left_right = []\n",
    "fox_lengths = []\n",
    "count = 0\n",
    "\n",
    "for index, row in politics.iterrows():\n",
    "    text = row['content'].replace('Sign in to comment', '')\\\n",
    "        .replace(']', '')\\\n",
    "        .replace('\\xa0', '')\\\n",
    "        .replace('The Associated Press contributed to this report', '')\\\n",
    "        .replace('Fox', '')\\\n",
    "        .replace(\"’\", \"\\'\")\n",
    "    fox_sub1 = re.compile(re.escape('foxnews'), re.IGNORECASE)\n",
    "    text = fox_sub1.sub('', text)\n",
    "    fox_sub2 = re.compile(re.escape('fox news'), re.IGNORECASE)\n",
    "    text = fox_sub2.sub('', text)\n",
    "    try:\n",
    "        text = re.search(r'(\\A.*)Twitter+', text, re.DOTALL|re.IGNORECASE).group(1)\n",
    "        try:\n",
    "            text = re.search(r'Click for(\\A.*)\\.+', text, re.IGNORECASE).group(1)\n",
    "        except:\n",
    "            try:\n",
    "                text = re.search(r'(\\A.*)THE RULEBOOK+', text, re.IGNORECASE).group(1)\n",
    "            except:\n",
    "                text = re.sub(r\"\\n(.*?) contributed to this report.\", \"\", text)\n",
    "    except:\n",
    "        try:\n",
    "            text = re.search(r'Click for(\\A.*)\\.+', text, re.IGNORECASE).group(1)\n",
    "        except:\n",
    "            try:\n",
    "                text = re.search(r'(\\A.*)THE RULEBOOK+', text, re.IGNORECASE).group(1)\n",
    "            except:\n",
    "                text = re.sub(r\"\\n(.*?) contributed to this report.\", \"\", text)\n",
    "\n",
    "    text_no_punc = tokenizer.tokenize(text)\n",
    "    if 'Buzz Cut' not in text and 'WITH YOUR SECOND CUP OF COFFEE' not in text and '___' not in text and 'Power Play' not in text and '++++++++' not in text:\n",
    "        if len(text_no_punc) < 2000 and len(text_no_punc) > 200:\n",
    "            fox_lengths.append(len(text_no_punc))\n",
    "            final_text = clean_text(text)\n",
    "            cleaned_data_left_right.append({\n",
    "                'date': row['date'],\n",
    "                'text': final_text,\n",
    "                'label': 1\n",
    "            })"
   ]
  },
  {
   "cell_type": "code",
   "execution_count": 4,
   "metadata": {},
   "outputs": [
    {
     "data": {
      "image/png": "[encoded data removed]",
      "text/plain": [
       "<Figure size 432x288 with 1 Axes>"
      ]
     },
     "metadata": {
      "needs_background": "light"
     },
     "output_type": "display_data"
    },
    {
     "name": "stdout",
     "output_type": "stream",
     "text": [
      "1808\n"
     ]
    }
   ],
   "source": [
    "plt.hist(fox_lengths, bins='auto')  # arguments are passed to np.histogram\n",
    "plt.title(\"Word count\")\n",
    "plt.show()\n",
    "print(len(fox_lengths))"
   ]
  },
  {
   "cell_type": "code",
   "execution_count": 5,
   "metadata": {},
   "outputs": [],
   "source": [
    "fox_df = pd.DataFrame(cleaned_data_left_right)\n",
    "fox_df.to_csv('../data_processed/atn_fox_with_bias_label.csv', index=False)"
   ]
  },
  {
   "cell_type": "markdown",
   "metadata": {},
   "source": [
    "## New York Post (N = 2006)"
   ]
  },
  {
   "cell_type": "code",
   "execution_count": 6,
   "metadata": {},
   "outputs": [],
   "source": [
    "cleaned_data_left_right = []\n",
    "nyp_lengths = []\n",
    "dataset = pd.read_csv(\"../data_raw/all_the_news/new_york_post.csv\", index_col=0)\n",
    "dataset = dataset.dropna(subset = ['content']) \n",
    "political_words = ['trump', 'obama', 'foreign policy', 'u.n.', 'hillary', 'politic', 'democrat', 'republican', 'election', 'president trump', 'president obama', 'presidential',\n",
    "                  'senate', 'congress']\n",
    "non_political_words = ['nfl', 'sports', 'ncaa', 'final four', 'march madness', 'football', 'basketball', 'nhl', 'hockey' 'jewelry', 'fashion', 'mortgage', 'celebrity',\n",
    "                       'album', 'world series', 'music', 'actress', 'actor', 'realty', 'real estate', 'hotel', 'condo', 'dow jones', 'stock exchange', 'apple']\n",
    "for index, row in dataset.iterrows():\n",
    "    text = row['content']\n",
    "    flag = False\n",
    "    for political_word in political_words:\n",
    "        if political_word in text.lower():\n",
    "            flag = True\n",
    "            for non_political_word in non_political_words:\n",
    "                if non_political_word in text.lower():\n",
    "                    flag = False\n",
    "    if flag and 'fox' not in text.lower() and '@' not in text and len(tokenizer.tokenize(text)) > 200:\n",
    "        text = text.replace('AP', '').replace('Reuters', '')\n",
    "        final_text = clean_text(text)\n",
    "        nyp_lengths.append(len(tokenizer.tokenize(text)))\n",
    "        cleaned_data_left_right.append({\n",
    "            'date': row['date'],\n",
    "            'text': final_text,\n",
    "            'label': 1\n",
    "        })"
   ]
  },
  {
   "cell_type": "code",
   "execution_count": 7,
   "metadata": {},
   "outputs": [
    {
     "data": {
      "image/png": "[encoded data removed]",
      "text/plain": [
       "<Figure size 432x288 with 1 Axes>"
      ]
     },
     "metadata": {
      "needs_background": "light"
     },
     "output_type": "display_data"
    },
    {
     "name": "stdout",
     "output_type": "stream",
     "text": [
      "2006\n"
     ]
    }
   ],
   "source": [
    "plt.hist(nyp_lengths, bins='auto')  # arguments are passed to np.histogram\n",
    "plt.title(\"Word count\")\n",
    "plt.show()\n",
    "print(len(nyp_lengths))"
   ]
  },
  {
   "cell_type": "code",
   "execution_count": 8,
   "metadata": {},
   "outputs": [],
   "source": [
    "nypost_df = pd.DataFrame(cleaned_data_left_right)\n",
    "nypost_df.to_csv('../data_processed/atn_nypost_with_bias_label.csv', index=False)"
   ]
  },
  {
   "cell_type": "markdown",
   "metadata": {},
   "source": [
    "## National Review (N = 2595)"
   ]
  },
  {
   "cell_type": "code",
   "execution_count": 9,
   "metadata": {},
   "outputs": [],
   "source": [
    "count = 0\n",
    "cleaned_data_left_right = []\n",
    "cleaned_data_bias_level = []\n",
    "nr_lengths = []\n",
    "\n",
    "political_words = ['trump', 'obama', 'foreign policy', 'u.n.', 'hillary', 'politic', 'democrat', 'republican', 'election', 'president trump', 'president obama', 'presidential',\n",
    "                  'senate', 'congress']\n",
    "non_political_words = ['nfl', 'sports', 'ncaa', 'final four', 'march madness', 'football', 'basketball', 'nhl', 'hockey' 'jewelry', 'fashion', 'mortgage', 'celebrity',\n",
    "                       'album', 'world series', 'music', 'actress', 'actor', 'realty', 'real estate', 'hotel', 'condo', 'dow jones', 'stock exchange', 'apple']\n",
    "\n",
    "dataset = pd.read_csv(\"../data_raw/all_the_news/national_review.csv\", index_col=0)\n",
    "dataset = dataset.dropna(subset = ['content'])\n",
    "for index, row in dataset.iterrows():\n",
    "    text = row['content']\n",
    "    author = row['author'].lower()\n",
    "    flag = False\n",
    "    for political_word in political_words:\n",
    "        if political_word in text.lower():\n",
    "            flag = True\n",
    "            for non_political_word in non_political_words:\n",
    "                if non_political_word in text.lower():\n",
    "                    flag = False\n",
    "    if flag:\n",
    "        text = text.replace(\"\\xa0\", \"\")\n",
    "        try:\n",
    "            text = re.search(r'(\\A.*){}+'.format(author), text, re.IGNORECASE).group(1)\n",
    "        except:\n",
    "            count+=1\n",
    "        if '@' not in text and len(tokenizer.tokenize(text)) > 200 and len(tokenizer.tokenize(text)) < 2000:\n",
    "            final_text = clean_text(text)\n",
    "            nr_lengths.append(len(tokenizer.tokenize(text)))\n",
    "            cleaned_data_left_right.append({\n",
    "                'date': row['date'],\n",
    "                'text': final_text,\n",
    "                'label': 1\n",
    "            })\n",
    "            cleaned_data_bias_level.append({\n",
    "                'date': row['date'],\n",
    "                'text': final_text,\n",
    "                'label': 2\n",
    "            })"
   ]
  },
  {
   "cell_type": "code",
   "execution_count": 10,
   "metadata": {},
   "outputs": [
    {
     "data": {
      "image/png": "[encoded data removed]",
      "text/plain": [
       "<Figure size 432x288 with 1 Axes>"
      ]
     },
     "metadata": {
      "needs_background": "light"
     },
     "output_type": "display_data"
    },
    {
     "name": "stdout",
     "output_type": "stream",
     "text": [
      "2595\n"
     ]
    }
   ],
   "source": [
    "plt.hist(nr_lengths, bins='auto')  # arguments are passed to np.histogram\n",
    "plt.title(\"Word count\")\n",
    "plt.show()\n",
    "print(len(nr_lengths))"
   ]
  },
  {
   "cell_type": "code",
   "execution_count": 11,
   "metadata": {},
   "outputs": [],
   "source": [
    "national_review_label = pd.DataFrame(cleaned_data_left_right)\n",
    "national_review_level = pd.DataFrame(cleaned_data_bias_level)\n",
    "national_review_label.to_csv('../data_processed/atn_national_review_with_bias_label.csv', index=False)\n",
    "national_review_level.to_csv('../data_processed/atn_national_review_with_bias_level.csv', index=False)"
   ]
  },
  {
   "cell_type": "markdown",
   "metadata": {},
   "source": [
    "## New York Times (N = 1790)"
   ]
  },
  {
   "cell_type": "code",
   "execution_count": 12,
   "metadata": {},
   "outputs": [],
   "source": [
    "count = 0\n",
    "cleaned_data_left_right = []\n",
    "cleaned_data_bias_level = []\n",
    "nyt_lengths = []\n",
    "\n",
    "political_words = ['trump', 'obama', 'foreign policy', 'u.n.', 'hillary', 'politic', 'democrat', 'republican', 'election', 'president trump', 'president obama', 'presidential',\n",
    "                  'senate', 'congress']\n",
    "non_political_words = ['nfl', 'sports', 'ncaa', 'final four', 'march madness', 'football', 'basketball', 'nhl', 'hockey' 'jewelry', 'fashion', 'mortgage', 'celebrity',\n",
    "                       'album', 'world series', 'music', 'actress', 'actor', 'realty', 'real estate', 'hotel', 'condo', 'dow jones', 'stock exchange', 'apple']\n",
    "\n",
    "dataset = pd.read_csv(\"../data_raw/all_the_news/new_york_times_2017_1.csv\", index_col=0)\n",
    "dataset = dataset.dropna(subset = ['content'])\n",
    "\n",
    "for index, row in dataset.iterrows():\n",
    "    text = row['content']\n",
    "    author = row['author']\n",
    "    flag = False\n",
    "    for political_word in political_words:\n",
    "        if political_word in text.lower():\n",
    "            flag = True\n",
    "            for non_political_word in non_political_words:\n",
    "                if non_political_word in text.lower():\n",
    "                    flag = False\n",
    "    if flag:\n",
    "        text = text.replace(\"’\", \"\\'\")\n",
    "        try:\n",
    "            text = re.search(r'(\\A.*){}+'.format(author), text, re.IGNORECASE).group(1)\n",
    "        except:\n",
    "            count+=1\n",
    "        if '@' not in text and len(tokenizer.tokenize(text)) > 100 and len(tokenizer.tokenize(text)) < 2000:\n",
    "            nyt_lengths.append(len(tokenizer.tokenize(text)))\n",
    "            final_text = clean_text(text)\n",
    "            cleaned_data_left_right.append({\n",
    "                'date': row['date'],\n",
    "                'text': final_text,\n",
    "                'label': 0\n",
    "            })\n",
    "            cleaned_data_bias_level.append({\n",
    "                'date': row['date'],\n",
    "                'text': final_text,\n",
    "                'label': 1\n",
    "            })"
   ]
  },
  {
   "cell_type": "code",
   "execution_count": 13,
   "metadata": {},
   "outputs": [
    {
     "data": {
      "image/png": "[encoded data removed]",
      "text/plain": [
       "<Figure size 432x288 with 1 Axes>"
      ]
     },
     "metadata": {
      "needs_background": "light"
     },
     "output_type": "display_data"
    },
    {
     "name": "stdout",
     "output_type": "stream",
     "text": [
      "1790\n"
     ]
    }
   ],
   "source": [
    "plt.hist(nyt_lengths, bins='auto')  # arguments are passed to np.histogram\n",
    "plt.title(\"Word count\")\n",
    "plt.show()\n",
    "print(len(nyt_lengths))"
   ]
  },
  {
   "cell_type": "code",
   "execution_count": 14,
   "metadata": {},
   "outputs": [],
   "source": [
    "nyt_label = pd.DataFrame(cleaned_data_left_right)\n",
    "nyt_level = pd.DataFrame(cleaned_data_bias_level)\n",
    "nyt_label.to_csv('../data_processed/atn_nyt_with_bias_label.csv', index=False)\n",
    "nyt_level.to_csv('../data_processed/atn_nyt_with_bias_level.csv', index=False)"
   ]
  },
  {
   "cell_type": "markdown",
   "metadata": {},
   "source": [
    "## Washington Post (N = 1978)"
   ]
  },
  {
   "cell_type": "code",
   "execution_count": 15,
   "metadata": {},
   "outputs": [
    {
     "data": {
      "text/html": [
       "<div>\n",
       "<style scoped>\n",
       "    .dataframe tbody tr th:only-of-type {\n",
       "        vertical-align: middle;\n",
       "    }\n",
       "\n",
       "    .dataframe tbody tr th {\n",
       "        vertical-align: top;\n",
       "    }\n",
       "\n",
       "    .dataframe thead th {\n",
       "        text-align: right;\n",
       "    }\n",
       "</style>\n",
       "<table border=\"1\" class=\"dataframe\">\n",
       "  <thead>\n",
       "    <tr style=\"text-align: right;\">\n",
       "      <th></th>\n",
       "      <th>title</th>\n",
       "      <th>author</th>\n",
       "      <th>date</th>\n",
       "      <th>content</th>\n",
       "      <th>year</th>\n",
       "      <th>month</th>\n",
       "      <th>publication</th>\n",
       "      <th>category</th>\n",
       "      <th>digital</th>\n",
       "      <th>section</th>\n",
       "      <th>url</th>\n",
       "    </tr>\n",
       "    <tr>\n",
       "      <th>id</th>\n",
       "      <th></th>\n",
       "      <th></th>\n",
       "      <th></th>\n",
       "      <th></th>\n",
       "      <th></th>\n",
       "      <th></th>\n",
       "      <th></th>\n",
       "      <th></th>\n",
       "      <th></th>\n",
       "      <th></th>\n",
       "      <th></th>\n",
       "    </tr>\n",
       "  </thead>\n",
       "  <tbody>\n",
       "    <tr>\n",
       "      <th>204045</th>\n",
       "      <td>Roberts steers clear of controversy, praises d...</td>\n",
       "      <td>Robert Barnes</td>\n",
       "      <td>2016-12-31</td>\n",
       "      <td>The federal courts in general and the Supreme...</td>\n",
       "      <td>2016.0</td>\n",
       "      <td>12.0</td>\n",
       "      <td>Washington Post</td>\n",
       "      <td>newspaper</td>\n",
       "      <td>0</td>\n",
       "      <td>politics</td>\n",
       "      <td>https://web.archive.org/web/20170101001641/htt...</td>\n",
       "    </tr>\n",
       "    <tr>\n",
       "      <th>204062</th>\n",
       "      <td>Priebus faces daunting task bringing order to ...</td>\n",
       "      <td>Karen Tumulty</td>\n",
       "      <td>2017-01-01</td>\n",
       "      <td>Reince Priebus says that one of his most impo...</td>\n",
       "      <td>2017.0</td>\n",
       "      <td>1.0</td>\n",
       "      <td>Washington Post</td>\n",
       "      <td>newspaper</td>\n",
       "      <td>0</td>\n",
       "      <td>politics</td>\n",
       "      <td>https://web.archive.org/web/20170102001713/htt...</td>\n",
       "    </tr>\n",
       "    <tr>\n",
       "      <th>204085</th>\n",
       "      <td>Claiming mandate, GOP Congress lays plans to p...</td>\n",
       "      <td>David Weigel</td>\n",
       "      <td>2017-01-01</td>\n",
       "      <td>For six years, since they took back the House...</td>\n",
       "      <td>2017.0</td>\n",
       "      <td>1.0</td>\n",
       "      <td>Washington Post</td>\n",
       "      <td>newspaper</td>\n",
       "      <td>0</td>\n",
       "      <td>politics</td>\n",
       "      <td>https://web.archive.org/web/20170103000951/htt...</td>\n",
       "    </tr>\n",
       "    <tr>\n",
       "      <th>204089</th>\n",
       "      <td>Trump questions quest for cybersecurity: ‘No c...</td>\n",
       "      <td>Mike DeBonis</td>\n",
       "      <td>2017-01-01</td>\n",
       "      <td>President-elect Donald Trump has repeatedly q...</td>\n",
       "      <td>2017.0</td>\n",
       "      <td>1.0</td>\n",
       "      <td>Washington Post</td>\n",
       "      <td>newspaper</td>\n",
       "      <td>0</td>\n",
       "      <td>politics</td>\n",
       "      <td>https://web.archive.org/web/20170103000951/htt...</td>\n",
       "    </tr>\n",
       "    <tr>\n",
       "      <th>204138</th>\n",
       "      <td>How Julian Assange evolved from pariah to paragon</td>\n",
       "      <td>David Weigel</td>\n",
       "      <td>2017-01-04</td>\n",
       "      <td>President-elect Donald Trump tweeted some pra...</td>\n",
       "      <td>2017.0</td>\n",
       "      <td>1.0</td>\n",
       "      <td>Washington Post</td>\n",
       "      <td>newspaper</td>\n",
       "      <td>0</td>\n",
       "      <td>politics</td>\n",
       "      <td>https://web.archive.org/web/20170105013757/htt...</td>\n",
       "    </tr>\n",
       "  </tbody>\n",
       "</table>\n",
       "</div>"
      ],
      "text/plain": [
       "                                                    title         author  \\\n",
       "id                                                                         \n",
       "204045  Roberts steers clear of controversy, praises d...  Robert Barnes   \n",
       "204062  Priebus faces daunting task bringing order to ...  Karen Tumulty   \n",
       "204085  Claiming mandate, GOP Congress lays plans to p...   David Weigel   \n",
       "204089  Trump questions quest for cybersecurity: ‘No c...   Mike DeBonis   \n",
       "204138  How Julian Assange evolved from pariah to paragon   David Weigel   \n",
       "\n",
       "              date                                            content    year  \\\n",
       "id                                                                              \n",
       "204045  2016-12-31   The federal courts in general and the Supreme...  2016.0   \n",
       "204062  2017-01-01   Reince Priebus says that one of his most impo...  2017.0   \n",
       "204085  2017-01-01   For six years, since they took back the House...  2017.0   \n",
       "204089  2017-01-01   President-elect Donald Trump has repeatedly q...  2017.0   \n",
       "204138  2017-01-04   President-elect Donald Trump tweeted some pra...  2017.0   \n",
       "\n",
       "        month      publication   category  digital   section  \\\n",
       "id                                                             \n",
       "204045   12.0  Washington Post  newspaper        0  politics   \n",
       "204062    1.0  Washington Post  newspaper        0  politics   \n",
       "204085    1.0  Washington Post  newspaper        0  politics   \n",
       "204089    1.0  Washington Post  newspaper        0  politics   \n",
       "204138    1.0  Washington Post  newspaper        0  politics   \n",
       "\n",
       "                                                      url  \n",
       "id                                                         \n",
       "204045  https://web.archive.org/web/20170101001641/htt...  \n",
       "204062  https://web.archive.org/web/20170102001713/htt...  \n",
       "204085  https://web.archive.org/web/20170103000951/htt...  \n",
       "204089  https://web.archive.org/web/20170103000951/htt...  \n",
       "204138  https://web.archive.org/web/20170105013757/htt...  "
      ]
     },
     "execution_count": 15,
     "metadata": {},
     "output_type": "execute_result"
    }
   ],
   "source": [
    "dataset = pd.read_csv(\"../data_raw/all_the_news/washington_post.csv\", index_col=0)\n",
    "dataset = dataset.dropna(subset = ['content'])\n",
    "politics = dataset[dataset['section']=='politics']\n",
    "politics.head()"
   ]
  },
  {
   "cell_type": "code",
   "execution_count": 19,
   "metadata": {},
   "outputs": [],
   "source": [
    "count = 0\n",
    "cleaned_data_left_right = []\n",
    "cleaned_data_bias_level = []\n",
    "washpo_lengths = []\n",
    "for index, row in politics.iterrows():\n",
    "    author = row['author']\n",
    "    text = row['content'].replace('The Washington Post', '').replace('{}'.format(author), '').replace(\"’\", \"\\'\")\n",
    "    \n",
    "    text_no_punc = tokenizer.tokenize(text)\n",
    "    \n",
    "    if len(text_no_punc) > 100 and len(text_no_punc) < 2500:\n",
    "        washpo_lengths.append(len(text_no_punc))\n",
    "        final_text = clean_text(text)\n",
    "        cleaned_data_left_right.append({\n",
    "            'date': row['date'],\n",
    "            'text': final_text,\n",
    "            'label': 0\n",
    "        })\n",
    "        cleaned_data_bias_level.append({\n",
    "            'date': row['date'],\n",
    "            'text': final_text,\n",
    "            'label': 1\n",
    "        })"
   ]
  },
  {
   "cell_type": "code",
   "execution_count": 20,
   "metadata": {},
   "outputs": [
    {
     "data": {
      "image/png": "[encoded data removed]",
      "text/plain": [
       "<Figure size 432x288 with 1 Axes>"
      ]
     },
     "metadata": {
      "needs_background": "light"
     },
     "output_type": "display_data"
    },
    {
     "name": "stdout",
     "output_type": "stream",
     "text": [
      "992\n"
     ]
    }
   ],
   "source": [
    "plt.hist(washpo_lengths, bins='auto')  # arguments are passed to np.histogram\n",
    "plt.title(\"Word count\")\n",
    "plt.show()\n",
    "print(len(washpo_lengths))"
   ]
  },
  {
   "cell_type": "code",
   "execution_count": 21,
   "metadata": {},
   "outputs": [],
   "source": [
    "washpost_label = pd.DataFrame(cleaned_data_left_right)\n",
    "washpost_level = pd.DataFrame(cleaned_data_bias_level)\n",
    "washpost_label.to_csv('../data_processed/atn_washpost_with_bias_label.csv', index=False)\n",
    "washpost_level.to_csv('../data_processed/atn_washpost_with_bias_level.csv', index=False)"
   ]
  },
  {
   "cell_type": "markdown",
   "metadata": {},
   "source": [
    "## The Guardian (N = 168)"
   ]
  },
  {
   "cell_type": "code",
   "execution_count": 22,
   "metadata": {},
   "outputs": [
    {
     "data": {
      "text/html": [
       "<div>\n",
       "<style scoped>\n",
       "    .dataframe tbody tr th:only-of-type {\n",
       "        vertical-align: middle;\n",
       "    }\n",
       "\n",
       "    .dataframe tbody tr th {\n",
       "        vertical-align: top;\n",
       "    }\n",
       "\n",
       "    .dataframe thead th {\n",
       "        text-align: right;\n",
       "    }\n",
       "</style>\n",
       "<table border=\"1\" class=\"dataframe\">\n",
       "  <thead>\n",
       "    <tr style=\"text-align: right;\">\n",
       "      <th></th>\n",
       "      <th>title</th>\n",
       "      <th>author</th>\n",
       "      <th>date</th>\n",
       "      <th>content</th>\n",
       "      <th>year</th>\n",
       "      <th>month</th>\n",
       "      <th>publication</th>\n",
       "      <th>category</th>\n",
       "      <th>digital</th>\n",
       "      <th>section</th>\n",
       "      <th>url</th>\n",
       "    </tr>\n",
       "    <tr>\n",
       "      <th>id</th>\n",
       "      <th></th>\n",
       "      <th></th>\n",
       "      <th></th>\n",
       "      <th></th>\n",
       "      <th></th>\n",
       "      <th></th>\n",
       "      <th></th>\n",
       "      <th></th>\n",
       "      <th></th>\n",
       "      <th></th>\n",
       "      <th></th>\n",
       "    </tr>\n",
       "  </thead>\n",
       "  <tbody>\n",
       "    <tr>\n",
       "      <th>145642</th>\n",
       "      <td>Tony Blair attacks Labour for providing 'zero'...</td>\n",
       "      <td>Chris Johnston</td>\n",
       "      <td>2017-04-03</td>\n",
       "      <td>Tony Blair has accused Labour of failing the B...</td>\n",
       "      <td>2017.0</td>\n",
       "      <td>4.0</td>\n",
       "      <td>Guardian</td>\n",
       "      <td>newspaper</td>\n",
       "      <td>0</td>\n",
       "      <td>politics</td>\n",
       "      <td>https://www.theguardian.com/politics/2017/apr/...</td>\n",
       "    </tr>\n",
       "    <tr>\n",
       "      <th>145672</th>\n",
       "      <td>Election debate: reaction and analysis after J...</td>\n",
       "      <td>Andrew Sparrow</td>\n",
       "      <td>2017-06-25</td>\n",
       "      <td>Here is our main story about the debate., And ...</td>\n",
       "      <td>2017.0</td>\n",
       "      <td>6.0</td>\n",
       "      <td>Guardian</td>\n",
       "      <td>newspaper</td>\n",
       "      <td>0</td>\n",
       "      <td>politics</td>\n",
       "      <td>https://www.theguardian.com/politics/live/2017...</td>\n",
       "    </tr>\n",
       "    <tr>\n",
       "      <th>145898</th>\n",
       "      <td>Cyber-attack on UK parliament: Russia is suspe...</td>\n",
       "      <td>Ewen MacAskill</td>\n",
       "      <td>2017-06-25</td>\n",
       "      <td>The Russian government is suspected of being b...</td>\n",
       "      <td>2017.0</td>\n",
       "      <td>6.0</td>\n",
       "      <td>Guardian</td>\n",
       "      <td>newspaper</td>\n",
       "      <td>0</td>\n",
       "      <td>politics</td>\n",
       "      <td>https://www.theguardian.com/politics/2017/jun/...</td>\n",
       "    </tr>\n",
       "    <tr>\n",
       "      <th>145927</th>\n",
       "      <td>How Jeremy Corbyn turned a youth surge into ge...</td>\n",
       "      <td>Michael Savage</td>\n",
       "      <td>2017-06-10</td>\n",
       "      <td>On Thursday, it will be exactly two years sinc...</td>\n",
       "      <td>2017.0</td>\n",
       "      <td>6.0</td>\n",
       "      <td>Guardian</td>\n",
       "      <td>newspaper</td>\n",
       "      <td>0</td>\n",
       "      <td>politics</td>\n",
       "      <td>https://www.theguardian.com/politics/2017/jun/...</td>\n",
       "    </tr>\n",
       "    <tr>\n",
       "      <th>146107</th>\n",
       "      <td>Theresa May's article 50 letter annotated</td>\n",
       "      <td>Dan Roberts</td>\n",
       "      <td>2017-03-29</td>\n",
       "      <td>This letter sets out the ... deep and special ...</td>\n",
       "      <td>2017.0</td>\n",
       "      <td>3.0</td>\n",
       "      <td>Guardian</td>\n",
       "      <td>newspaper</td>\n",
       "      <td>0</td>\n",
       "      <td>politics</td>\n",
       "      <td>https://www.theguardian.com/politics/ng-intera...</td>\n",
       "    </tr>\n",
       "  </tbody>\n",
       "</table>\n",
       "</div>"
      ],
      "text/plain": [
       "                                                    title          author  \\\n",
       "id                                                                          \n",
       "145642  Tony Blair attacks Labour for providing 'zero'...  Chris Johnston   \n",
       "145672  Election debate: reaction and analysis after J...  Andrew Sparrow   \n",
       "145898  Cyber-attack on UK parliament: Russia is suspe...  Ewen MacAskill   \n",
       "145927  How Jeremy Corbyn turned a youth surge into ge...  Michael Savage   \n",
       "146107          Theresa May's article 50 letter annotated     Dan Roberts   \n",
       "\n",
       "              date                                            content    year  \\\n",
       "id                                                                              \n",
       "145642  2017-04-03  Tony Blair has accused Labour of failing the B...  2017.0   \n",
       "145672  2017-06-25  Here is our main story about the debate., And ...  2017.0   \n",
       "145898  2017-06-25  The Russian government is suspected of being b...  2017.0   \n",
       "145927  2017-06-10  On Thursday, it will be exactly two years sinc...  2017.0   \n",
       "146107  2017-03-29  This letter sets out the ... deep and special ...  2017.0   \n",
       "\n",
       "        month publication   category  digital   section  \\\n",
       "id                                                        \n",
       "145642    4.0    Guardian  newspaper        0  politics   \n",
       "145672    6.0    Guardian  newspaper        0  politics   \n",
       "145898    6.0    Guardian  newspaper        0  politics   \n",
       "145927    6.0    Guardian  newspaper        0  politics   \n",
       "146107    3.0    Guardian  newspaper        0  politics   \n",
       "\n",
       "                                                      url  \n",
       "id                                                         \n",
       "145642  https://www.theguardian.com/politics/2017/apr/...  \n",
       "145672  https://www.theguardian.com/politics/live/2017...  \n",
       "145898  https://www.theguardian.com/politics/2017/jun/...  \n",
       "145927  https://www.theguardian.com/politics/2017/jun/...  \n",
       "146107  https://www.theguardian.com/politics/ng-intera...  "
      ]
     },
     "execution_count": 22,
     "metadata": {},
     "output_type": "execute_result"
    }
   ],
   "source": [
    "dataset = pd.read_csv(\"../data_raw/all_the_news/guardian.csv\", index_col=0)\n",
    "dataset = dataset.dropna(subset = ['content'])\n",
    "politics = dataset[dataset['section']=='politics']\n",
    "politics.head()"
   ]
  },
  {
   "cell_type": "code",
   "execution_count": 23,
   "metadata": {},
   "outputs": [],
   "source": [
    "count = 0\n",
    "cleaned_data_left_right = []\n",
    "cleaned_data_bias_level = []\n",
    "guardian_lengths = []\n",
    "for index, row in politics.iterrows():\n",
    "    author = row['author']\n",
    "    text = row['content'].replace('The Guardian', '').replace('{}'.format(author), '').replace(\"’\", \"\\'\")\n",
    "    \n",
    "    text_no_punc = tokenizer.tokenize(text)\n",
    "    \n",
    "    if len(text_no_punc) > 100 and len(text_no_punc) < 2600:\n",
    "        guardian_lengths.append(len(text_no_punc))\n",
    "        final_text = clean_text(text)\n",
    "        cleaned_data_left_right.append({\n",
    "            'date': row['date'],\n",
    "            'text': final_text,\n",
    "            'label': 0\n",
    "        })\n",
    "        cleaned_data_bias_level.append({\n",
    "            'date': row['date'],\n",
    "            'text': final_text,\n",
    "            'label': 1\n",
    "        })"
   ]
  },
  {
   "cell_type": "code",
   "execution_count": 24,
   "metadata": {},
   "outputs": [
    {
     "data": {
      "image/png": "[encoded data removed]",
      "text/plain": [
       "<Figure size 432x288 with 1 Axes>"
      ]
     },
     "metadata": {
      "needs_background": "light"
     },
     "output_type": "display_data"
    },
    {
     "name": "stdout",
     "output_type": "stream",
     "text": [
      "83\n"
     ]
    }
   ],
   "source": [
    "plt.hist(guardian_lengths, bins='auto')  # arguments are passed to np.histogram\n",
    "plt.title(\"Word count\")\n",
    "plt.show()\n",
    "print(len(guardian_lengths))"
   ]
  },
  {
   "cell_type": "markdown",
   "metadata": {},
   "source": [
    "## The Atlantic"
   ]
  },
  {
   "cell_type": "code",
   "execution_count": 25,
   "metadata": {},
   "outputs": [],
   "source": [
    "dataset = pd.read_csv(\"../data_raw/all_the_news/atlantic.csv\", index_col=0)\n",
    "dataset = dataset.dropna(subset = ['content'])\n",
    "for index, row in politics.iterrows():\n",
    "    author = row['author']\n",
    "    text = row['content'].replace('{}'.format(author), '').replace(\"’\", \"\\'\")\n",
    "\n",
    "    text_no_punc = tokenizer.tokenize(text)\n",
    "    if len(text_no_punc) > 100 and len(text_no_punc) < 4000:\n",
    "        final_text = clean_text(text)\n",
    "        cleaned_data_left_right.append({\n",
    "            'date': row['date'],\n",
    "            'text': final_text,\n",
    "            'label': 0\n",
    "        })\n",
    "        cleaned_data_bias_level.append({\n",
    "            'date': row['date'],\n",
    "            'text': final_text,\n",
    "            'label': 1\n",
    "        })"
   ]
  },
  {
   "cell_type": "code",
   "execution_count": 26,
   "metadata": {},
   "outputs": [],
   "source": [
    "label = pd.DataFrame(cleaned_data_left_right)\n",
    "level = pd.DataFrame(cleaned_data_bias_level)\n",
    "label.to_csv('../data_processed/atn_guardian_atlantic_with_bias_label.csv', index=False)\n",
    "level.to_csv('../data_processed/atn_guardian_atlantic_with_bias_level.csv', index=False)"
   ]
  },
  {
   "cell_type": "markdown",
   "metadata": {},
   "source": [
    "## CNN (N = 3272)"
   ]
  },
  {
   "cell_type": "code",
   "execution_count": 27,
   "metadata": {},
   "outputs": [],
   "source": [
    "count = 0\n",
    "cleaned_data_left_right = []\n",
    "cleaned_data_bias_level = []\n",
    "cnn_lengths = []\n",
    "\n",
    "political_words = ['trump', 'obama', 'foreign policy', 'u.n.', 'hillary', 'politic', 'democrat', 'republican', 'election', 'president trump', 'president obama', 'presidential',\n",
    "                  'senate', 'congress']\n",
    "non_political_words = ['nfl', 'sports', 'ncaa', 'final four', 'march madness', 'football', 'basketball', 'nhl', 'hockey' 'jewelry', 'fashion', 'mortgage', 'celebrity',\n",
    "                       'album', 'world series', 'music', 'actress', 'actor', 'realty', 'real estate', 'hotel', 'condo', 'dow jones', 'stock exchange', 'apple']\n",
    "\n",
    "dataset = pd.read_csv(\"../data_raw/all_the_news/cnn.csv\", index_col=0)\n",
    "dataset = dataset.dropna(subset = ['content'])\n",
    "dataset = dataset[dataset['date'] > '2016']"
   ]
  },
  {
   "cell_type": "code",
   "execution_count": 28,
   "metadata": {},
   "outputs": [],
   "source": [
    "for index, row in dataset.iterrows():\n",
    "    text = row['content']\n",
    "    author = row['author']\n",
    "    flag = False\n",
    "    for political_word in political_words:\n",
    "        if political_word in text.lower():\n",
    "            flag = True\n",
    "            for non_political_word in non_political_words:\n",
    "                if non_political_word in text.lower():\n",
    "                    flag = False\n",
    "    if flag:\n",
    "        text = text.replace(\"’\", \"\\'\").replace('CNN', '')\n",
    "        if len(tokenizer.tokenize(text)) > 200 and len(tokenizer.tokenize(text)) < 2000:\n",
    "            cnn_lengths.append(len(tokenizer.tokenize(text)))\n",
    "            final_text = clean_text(text)\n",
    "            cleaned_data_left_right.append({\n",
    "                'date': row['date'],\n",
    "                'text': final_text,\n",
    "                'label': 0\n",
    "            })\n",
    "            cleaned_data_bias_level.append({\n",
    "                'date': row['date'],\n",
    "                'text': final_text,\n",
    "                'label': 2\n",
    "            })"
   ]
  },
  {
   "cell_type": "code",
   "execution_count": 29,
   "metadata": {},
   "outputs": [
    {
     "data": {
      "image/png": "[encoded data removed]",
      "text/plain": [
       "<Figure size 432x288 with 1 Axes>"
      ]
     },
     "metadata": {
      "needs_background": "light"
     },
     "output_type": "display_data"
    },
    {
     "name": "stdout",
     "output_type": "stream",
     "text": [
      "2654\n"
     ]
    }
   ],
   "source": [
    "plt.hist(cnn_lengths, bins='auto')  # arguments are passed to np.histogram\n",
    "plt.title(\"Word count\")\n",
    "plt.show()\n",
    "print(len(cnn_lengths))"
   ]
  },
  {
   "cell_type": "code",
   "execution_count": 30,
   "metadata": {},
   "outputs": [],
   "source": [
    "cnn_label = pd.DataFrame(cleaned_data_left_right)\n",
    "cnn_level = pd.DataFrame(cleaned_data_bias_level)\n",
    "cnn_label.to_csv('../data_processed/atn_cnn_with_bias_label.csv', index=False)\n",
    "cnn_level.to_csv('../data_processed/atn_cnn_with_bias_level.csv', index=False)"
   ]
  },
  {
   "cell_type": "markdown",
   "metadata": {},
   "source": [
    "## Concatenate files for Liberal vs. Conservative bias"
   ]
  },
  {
   "cell_type": "code",
   "execution_count": 31,
   "metadata": {},
   "outputs": [
    {
     "data": {
      "text/plain": [
       "(25012, 3)"
      ]
     },
     "execution_count": 31,
     "metadata": {},
     "output_type": "execute_result"
    }
   ],
   "source": [
    "files = glob.glob(\"../data_processed/atn_*_label.csv\")\n",
    "dataframe_list = []\n",
    "for f in files:\n",
    "    this_file = pd.read_csv(f)\n",
    "    dataframe_list.append(this_file)\n",
    "atn_all_df = pd.concat(dataframe_list, ignore_index=True)\n",
    "atn_all_df.shape"
   ]
  },
  {
   "cell_type": "code",
   "execution_count": 32,
   "metadata": {},
   "outputs": [],
   "source": [
    "atn_all_df.to_csv('../data_processed/atn_with_bias_label.csv', index=False)\n",
    "atn_all_df = atn_all_df[['text', 'label']]\n",
    "atn_all_df.columns = ['content', 'label']"
   ]
  },
  {
   "cell_type": "code",
   "execution_count": 33,
   "metadata": {},
   "outputs": [
    {
     "data": {
      "text/plain": [
       "(5331, 2)"
      ]
     },
     "execution_count": 33,
     "metadata": {},
     "output_type": "execute_result"
    }
   ],
   "source": [
    "recent_news_df = pd.read_csv('../data_processed/dataset_with_bias_label.csv')\n",
    "recent_news_df = recent_news_df[['content', 'label']]\n",
    "recent_news_df.shape"
   ]
  },
  {
   "cell_type": "code",
   "execution_count": 34,
   "metadata": {},
   "outputs": [
    {
     "data": {
      "text/html": [
       "<div>\n",
       "<style scoped>\n",
       "    .dataframe tbody tr th:only-of-type {\n",
       "        vertical-align: middle;\n",
       "    }\n",
       "\n",
       "    .dataframe tbody tr th {\n",
       "        vertical-align: top;\n",
       "    }\n",
       "\n",
       "    .dataframe thead th {\n",
       "        text-align: right;\n",
       "    }\n",
       "</style>\n",
       "<table border=\"1\" class=\"dataframe\">\n",
       "  <thead>\n",
       "    <tr style=\"text-align: right;\">\n",
       "      <th></th>\n",
       "      <th>content</th>\n",
       "      <th>label</th>\n",
       "    </tr>\n",
       "  </thead>\n",
       "  <tbody>\n",
       "    <tr>\n",
       "      <th>0</th>\n",
       "      <td>hillary clinton speaks at the time 100 summit ...</td>\n",
       "      <td>0</td>\n",
       "    </tr>\n",
       "    <tr>\n",
       "      <th>1</th>\n",
       "      <td>president donald trump hits a new high on his ...</td>\n",
       "      <td>0</td>\n",
       "    </tr>\n",
       "    <tr>\n",
       "      <th>2</th>\n",
       "      <td>the broad outlines of how the bidens roles int...</td>\n",
       "      <td>0</td>\n",
       "    </tr>\n",
       "    <tr>\n",
       "      <th>3</th>\n",
       "      <td>nellie ohr the wife of justice department offi...</td>\n",
       "      <td>1</td>\n",
       "    </tr>\n",
       "    <tr>\n",
       "      <th>4</th>\n",
       "      <td>federal immigration officers working on the un...</td>\n",
       "      <td>1</td>\n",
       "    </tr>\n",
       "  </tbody>\n",
       "</table>\n",
       "</div>"
      ],
      "text/plain": [
       "                                             content  label\n",
       "0  hillary clinton speaks at the time 100 summit ...      0\n",
       "1  president donald trump hits a new high on his ...      0\n",
       "2  the broad outlines of how the bidens roles int...      0\n",
       "3  nellie ohr the wife of justice department offi...      1\n",
       "4  federal immigration officers working on the un...      1"
      ]
     },
     "execution_count": 34,
     "metadata": {},
     "output_type": "execute_result"
    }
   ],
   "source": [
    "recent_news_df.head()"
   ]
  },
  {
   "cell_type": "code",
   "execution_count": 35,
   "metadata": {},
   "outputs": [],
   "source": [
    "all_bias_label_df = pd.concat([atn_all_df, recent_news_df])"
   ]
  },
  {
   "cell_type": "code",
   "execution_count": 36,
   "metadata": {},
   "outputs": [
    {
     "data": {
      "text/html": [
       "<div>\n",
       "<style scoped>\n",
       "    .dataframe tbody tr th:only-of-type {\n",
       "        vertical-align: middle;\n",
       "    }\n",
       "\n",
       "    .dataframe tbody tr th {\n",
       "        vertical-align: top;\n",
       "    }\n",
       "\n",
       "    .dataframe thead th {\n",
       "        text-align: right;\n",
       "    }\n",
       "</style>\n",
       "<table border=\"1\" class=\"dataframe\">\n",
       "  <thead>\n",
       "    <tr style=\"text-align: right;\">\n",
       "      <th></th>\n",
       "      <th>content</th>\n",
       "      <th>label</th>\n",
       "    </tr>\n",
       "  </thead>\n",
       "  <tbody>\n",
       "    <tr>\n",
       "      <th>0</th>\n",
       "      <td>republican presidential candidate ben carson s...</td>\n",
       "      <td>1</td>\n",
       "    </tr>\n",
       "    <tr>\n",
       "      <th>1</th>\n",
       "      <td>a nasty battle has broken out in the republica...</td>\n",
       "      <td>1</td>\n",
       "    </tr>\n",
       "    <tr>\n",
       "      <th>2</th>\n",
       "      <td>donald trump launched new attacks against bill...</td>\n",
       "      <td>1</td>\n",
       "    </tr>\n",
       "    <tr>\n",
       "      <th>3</th>\n",
       "      <td>the plunge in oil prices has given a needed br...</td>\n",
       "      <td>1</td>\n",
       "    </tr>\n",
       "    <tr>\n",
       "      <th>4</th>\n",
       "      <td>president obama said on friday he will meet wi...</td>\n",
       "      <td>1</td>\n",
       "    </tr>\n",
       "  </tbody>\n",
       "</table>\n",
       "</div>"
      ],
      "text/plain": [
       "                                             content  label\n",
       "0  republican presidential candidate ben carson s...      1\n",
       "1  a nasty battle has broken out in the republica...      1\n",
       "2  donald trump launched new attacks against bill...      1\n",
       "3  the plunge in oil prices has given a needed br...      1\n",
       "4  president obama said on friday he will meet wi...      1"
      ]
     },
     "execution_count": 36,
     "metadata": {},
     "output_type": "execute_result"
    }
   ],
   "source": [
    "all_bias_label_df.head()"
   ]
  },
  {
   "cell_type": "code",
   "execution_count": 37,
   "metadata": {},
   "outputs": [
    {
     "data": {
      "text/plain": [
       "1    15226\n",
       "0    15117\n",
       "Name: label, dtype: int64"
      ]
     },
     "execution_count": 37,
     "metadata": {},
     "output_type": "execute_result"
    }
   ],
   "source": [
    "all_bias_label_df['label'].value_counts()"
   ]
  },
  {
   "cell_type": "code",
   "execution_count": 38,
   "metadata": {},
   "outputs": [],
   "source": [
    "atn_all_df.to_csv('../data_processed/ALL_NEWS_bias_label.csv', index=False)"
   ]
  },
  {
   "cell_type": "markdown",
   "metadata": {},
   "source": [
    "## Concatenate files for Liberal vs. Conservative bias"
   ]
  },
  {
   "cell_type": "code",
   "execution_count": null,
   "metadata": {},
   "outputs": [],
   "source": []
  }
 ],
 "metadata": {
  "kernelspec": {
   "display_name": "Python 3",
   "language": "python",
   "name": "python3"
  },
  "language_info": {
   "codemirror_mode": {
    "name": "ipython",
    "version": 3
   },
   "file_extension": ".py",
   "mimetype": "text/x-python",
   "name": "python",
   "nbconvert_exporter": "python",
   "pygments_lexer": "ipython3",
   "version": "3.7.1"
  }
 },
 "nbformat": 4,
 "nbformat_minor": 2
}
