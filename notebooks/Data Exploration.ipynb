{
 "cells": [
  {
   "cell_type": "markdown",
   "metadata": {},
   "source": [
    "# News Articles Data Exploration"
   ]
  },
  {
   "cell_type": "markdown",
   "metadata": {},
   "source": [
    "### Importing modules"
   ]
  },
  {
   "cell_type": "code",
   "execution_count": 1,
   "metadata": {},
   "outputs": [],
   "source": [
    "import pandas as pd\n",
    "import re"
   ]
  },
  {
   "cell_type": "code",
   "execution_count": 26,
   "metadata": {},
   "outputs": [
    {
     "name": "stderr",
     "output_type": "stream",
     "text": [
      "[nltk_data] Downloading package punkt to\n",
      "[nltk_data]     /Users/cristianoaguiar/nltk_data...\n",
      "[nltk_data]   Unzipping tokenizers/punkt.zip.\n"
     ]
    },
    {
     "data": {
      "text/plain": [
       "True"
      ]
     },
     "execution_count": 26,
     "metadata": {},
     "output_type": "execute_result"
    }
   ],
   "source": [
    "import nltk\n",
    "nltk.download('punkt')"
   ]
  },
  {
   "cell_type": "markdown",
   "metadata": {},
   "source": [
    "### Loading data"
   ]
  },
  {
   "cell_type": "code",
   "execution_count": 2,
   "metadata": {},
   "outputs": [],
   "source": [
    "dataset = pd.read_csv(\"../data_processed/news_articles_joined.csv\", index_col=0)"
   ]
  },
  {
   "cell_type": "markdown",
   "metadata": {},
   "source": [
    "### Data Cleaning"
   ]
  },
  {
   "cell_type": "markdown",
   "metadata": {},
   "source": [
    "Removing articles where the content is not string."
   ]
  },
  {
   "cell_type": "code",
   "execution_count": 3,
   "metadata": {},
   "outputs": [],
   "source": [
    "mask_string = dataset[\"content\"].apply(lambda x: isinstance(x, str))\n",
    "dataset = dataset[mask_string]"
   ]
  },
  {
   "cell_type": "markdown",
   "metadata": {},
   "source": [
    "Setting a columns with the size of each article content."
   ]
  },
  {
   "cell_type": "code",
   "execution_count": 4,
   "metadata": {},
   "outputs": [],
   "source": [
    "content_size = dataset[\"content\"].apply(len)\n",
    "dataset[\"content_size\"] = content_size"
   ]
  },
  {
   "cell_type": "markdown",
   "metadata": {},
   "source": [
    "Histogram of the size of each article."
   ]
  },
  {
   "cell_type": "code",
   "execution_count": 7,
   "metadata": {},
   "outputs": [
    {
     "data": {
      "image/png": "[encoded data removed]",
      "text/plain": [
       "<Figure size 432x288 with 1 Axes>"
      ]
     },
     "metadata": {
      "needs_background": "light"
     },
     "output_type": "display_data"
    }
   ],
   "source": [
    "dataset[\"content_size\"].hist(bins=50);"
   ]
  },
  {
   "cell_type": "markdown",
   "metadata": {},
   "source": [
    "Content size description:"
   ]
  },
  {
   "cell_type": "code",
   "execution_count": 8,
   "metadata": {},
   "outputs": [
    {
     "data": {
      "text/plain": [
       "count    41318.000000\n",
       "mean      1664.157292\n",
       "std       2876.323403\n",
       "min          1.000000\n",
       "25%         97.000000\n",
       "50%        334.000000\n",
       "75%       2345.750000\n",
       "max      58442.000000\n",
       "Name: content_size, dtype: float64"
      ]
     },
     "execution_count": 8,
     "metadata": {},
     "output_type": "execute_result"
    }
   ],
   "source": [
    "dataset[\"content_size\"].describe()"
   ]
  },
  {
   "cell_type": "markdown",
   "metadata": {},
   "source": [
    "Selecting articles with more than 300 characters"
   ]
  },
  {
   "cell_type": "code",
   "execution_count": 9,
   "metadata": {},
   "outputs": [],
   "source": [
    "mask_size = dataset[\"content_size\"] > 300\n",
    "dataset = dataset[mask_size]"
   ]
  },
  {
   "cell_type": "markdown",
   "metadata": {},
   "source": [
    "New histogram"
   ]
  },
  {
   "cell_type": "code",
   "execution_count": 10,
   "metadata": {},
   "outputs": [
    {
     "data": {
      "image/png": "[encoded data removed]",
      "text/plain": [
       "<Figure size 432x288 with 1 Axes>"
      ]
     },
     "metadata": {
      "needs_background": "light"
     },
     "output_type": "display_data"
    }
   ],
   "source": [
    "dataset[\"content_size\"].hist(bins=50);"
   ]
  },
  {
   "cell_type": "code",
   "execution_count": 11,
   "metadata": {},
   "outputs": [
    {
     "data": {
      "text/plain": [
       "count    21376.000000\n",
       "mean      3113.315354\n",
       "std       3411.037615\n",
       "min        301.000000\n",
       "25%        717.000000\n",
       "50%       2229.500000\n",
       "75%       4449.250000\n",
       "max      58442.000000\n",
       "Name: content_size, dtype: float64"
      ]
     },
     "execution_count": 11,
     "metadata": {},
     "output_type": "execute_result"
    }
   ],
   "source": [
    "dataset[\"content_size\"].describe()"
   ]
  },
  {
   "cell_type": "markdown",
   "metadata": {},
   "source": [
    "Cleaning publication names"
   ]
  },
  {
   "cell_type": "code",
   "execution_count": 12,
   "metadata": {},
   "outputs": [],
   "source": [
    "def clean_publication(publication):\n",
    "    # Leaving only the domain\n",
    "    return re.sub(r\"(https?://)?(www([0-9])?\\.)?\", \"\", publication)"
   ]
  },
  {
   "cell_type": "code",
   "execution_count": 13,
   "metadata": {},
   "outputs": [],
   "source": [
    "cleaned_publication = dataset[\"publication\"].apply(clean_publication)"
   ]
  },
  {
   "cell_type": "code",
   "execution_count": 14,
   "metadata": {},
   "outputs": [],
   "source": [
    "dataset[\"domain\"] = cleaned_publication"
   ]
  },
  {
   "cell_type": "code",
   "execution_count": 15,
   "metadata": {},
   "outputs": [
    {
     "data": {
      "text/html": [
       "<div>\n",
       "<style scoped>\n",
       "    .dataframe tbody tr th:only-of-type {\n",
       "        vertical-align: middle;\n",
       "    }\n",
       "\n",
       "    .dataframe tbody tr th {\n",
       "        vertical-align: top;\n",
       "    }\n",
       "\n",
       "    .dataframe thead th {\n",
       "        text-align: right;\n",
       "    }\n",
       "</style>\n",
       "<table border=\"1\" class=\"dataframe\">\n",
       "  <thead>\n",
       "    <tr style=\"text-align: right;\">\n",
       "      <th></th>\n",
       "      <th>title</th>\n",
       "      <th>publication</th>\n",
       "      <th>authors</th>\n",
       "      <th>date</th>\n",
       "      <th>year</th>\n",
       "      <th>month</th>\n",
       "      <th>url</th>\n",
       "      <th>content</th>\n",
       "      <th>content_size</th>\n",
       "      <th>domain</th>\n",
       "    </tr>\n",
       "  </thead>\n",
       "  <tbody>\n",
       "    <tr>\n",
       "      <th>0</th>\n",
       "      <td>Hillary Clinton: ‘China, if you’re listening, ...</td>\n",
       "      <td>https://www.washingtonpost.com</td>\n",
       "      <td>['John Wagner', \"National Reporter Leading The...</td>\n",
       "      <td>05-02-2019</td>\n",
       "      <td>2019.0</td>\n",
       "      <td>5.0</td>\n",
       "      <td>https://www.washingtonpost.com/politics/hillar...</td>\n",
       "      <td>Hillary Clinton speaks at the Time 100 Summit ...</td>\n",
       "      <td>2114</td>\n",
       "      <td>washingtonpost.com</td>\n",
       "    </tr>\n",
       "    <tr>\n",
       "      <th>1</th>\n",
       "      <td>Exclusive: Foreign government leases at Trump ...</td>\n",
       "      <td>https://www.reuters.com</td>\n",
       "      <td>['Julia Harte', 'Min Read']</td>\n",
       "      <td>05-02-2019</td>\n",
       "      <td>2019.0</td>\n",
       "      <td>5.0</td>\n",
       "      <td>https://www.reuters.com/article/us-usa-trump-e...</td>\n",
       "      <td>WASHINGTON (Reuters) - The U.S. State Departme...</td>\n",
       "      <td>8753</td>\n",
       "      <td>reuters.com</td>\n",
       "    </tr>\n",
       "    <tr>\n",
       "      <th>2</th>\n",
       "      <td>Trump's deal with Democrats leaves GOP rolling...</td>\n",
       "      <td>https://www.politico.com</td>\n",
       "      <td>['Melanie Zanona', 'Burgess Everett', 'Megan C...</td>\n",
       "      <td>05-02-2019</td>\n",
       "      <td>2019.0</td>\n",
       "      <td>5.0</td>\n",
       "      <td>https://www.politico.com/story/2019/05/02/trum...</td>\n",
       "      <td>“I don’t see where the pay-fors will come from...</td>\n",
       "      <td>6213</td>\n",
       "      <td>politico.com</td>\n",
       "    </tr>\n",
       "    <tr>\n",
       "      <th>3</th>\n",
       "      <td>CNN Poll: Trump's approval rating on the econo...</td>\n",
       "      <td>https://www.cnn.com</td>\n",
       "      <td>['Grace Sparks']</td>\n",
       "      <td>05-02-2019</td>\n",
       "      <td>2019.0</td>\n",
       "      <td>5.0</td>\n",
       "      <td>https://www.cnn.com/2019/05/02/politics/cnn-po...</td>\n",
       "      <td>(CNN) President Donald Trump hits a new high o...</td>\n",
       "      <td>5689</td>\n",
       "      <td>cnn.com</td>\n",
       "    </tr>\n",
       "    <tr>\n",
       "      <th>4</th>\n",
       "      <td>Biden Faces Conflict of Interest Questions Tha...</td>\n",
       "      <td>https://www.nytimes.com</td>\n",
       "      <td>['Kenneth P. Vogel', 'Iuliia Mendel']</td>\n",
       "      <td>05-01-2019</td>\n",
       "      <td>2019.0</td>\n",
       "      <td>5.0</td>\n",
       "      <td>https://www.nytimes.com/2019/05/01/us/politics...</td>\n",
       "      <td>The broad outlines of how the Bidens’ roles in...</td>\n",
       "      <td>1457</td>\n",
       "      <td>nytimes.com</td>\n",
       "    </tr>\n",
       "  </tbody>\n",
       "</table>\n",
       "</div>"
      ],
      "text/plain": [
       "                                               title  \\\n",
       "0  Hillary Clinton: ‘China, if you’re listening, ...   \n",
       "1  Exclusive: Foreign government leases at Trump ...   \n",
       "2  Trump's deal with Democrats leaves GOP rolling...   \n",
       "3  CNN Poll: Trump's approval rating on the econo...   \n",
       "4  Biden Faces Conflict of Interest Questions Tha...   \n",
       "\n",
       "                      publication  \\\n",
       "0  https://www.washingtonpost.com   \n",
       "1         https://www.reuters.com   \n",
       "2        https://www.politico.com   \n",
       "3             https://www.cnn.com   \n",
       "4         https://www.nytimes.com   \n",
       "\n",
       "                                             authors        date    year  \\\n",
       "0  ['John Wagner', \"National Reporter Leading The...  05-02-2019  2019.0   \n",
       "1                        ['Julia Harte', 'Min Read']  05-02-2019  2019.0   \n",
       "2  ['Melanie Zanona', 'Burgess Everett', 'Megan C...  05-02-2019  2019.0   \n",
       "3                                   ['Grace Sparks']  05-02-2019  2019.0   \n",
       "4              ['Kenneth P. Vogel', 'Iuliia Mendel']  05-01-2019  2019.0   \n",
       "\n",
       "   month                                                url  \\\n",
       "0    5.0  https://www.washingtonpost.com/politics/hillar...   \n",
       "1    5.0  https://www.reuters.com/article/us-usa-trump-e...   \n",
       "2    5.0  https://www.politico.com/story/2019/05/02/trum...   \n",
       "3    5.0  https://www.cnn.com/2019/05/02/politics/cnn-po...   \n",
       "4    5.0  https://www.nytimes.com/2019/05/01/us/politics...   \n",
       "\n",
       "                                             content  content_size  \\\n",
       "0  Hillary Clinton speaks at the Time 100 Summit ...          2114   \n",
       "1  WASHINGTON (Reuters) - The U.S. State Departme...          8753   \n",
       "2  “I don’t see where the pay-fors will come from...          6213   \n",
       "3  (CNN) President Donald Trump hits a new high o...          5689   \n",
       "4  The broad outlines of how the Bidens’ roles in...          1457   \n",
       "\n",
       "               domain  \n",
       "0  washingtonpost.com  \n",
       "1         reuters.com  \n",
       "2        politico.com  \n",
       "3             cnn.com  \n",
       "4         nytimes.com  "
      ]
     },
     "execution_count": 15,
     "metadata": {},
     "output_type": "execute_result"
    }
   ],
   "source": [
    "dataset.head()"
   ]
  },
  {
   "cell_type": "markdown",
   "metadata": {},
   "source": [
    "### Pre selected news sources"
   ]
  },
  {
   "cell_type": "code",
   "execution_count": 16,
   "metadata": {},
   "outputs": [],
   "source": [
    "conservative = {\n",
    "    \"Reason\": \"reason.com\",\n",
    "    \"The Washington Times\": \"washingtontimes.com\", \n",
    "    \"National Review\": \"nationareview.com\",\n",
    "    \"Washington Examiner\": \"washingtonexaminer.com\",\n",
    "    \"The Federalist\": \"thefederalist.com\",\n",
    "    \"Fox News\": \"foxnews.com\",\n",
    "    \"New York Post\": \"nypost.com\",\n",
    "    \"The Blaze\": \"theblaze.com\",\n",
    "    \"The Daily Caller\": \"dailycaller.com\",\n",
    "    \"The Daily Wire\": \"dailywire.com\",\n",
    "    \"Spectator\": \"spectator.org\"\n",
    "}"
   ]
  },
  {
   "cell_type": "code",
   "execution_count": 17,
   "metadata": {},
   "outputs": [],
   "source": [
    "liberal = {\n",
    "    \"The New Yorker\": \"newyorker.com\",\n",
    "    \"Mother Jones\": \"motherjones.com\",\n",
    "    \"Slate\": \"slate.com\",\n",
    "    \"MSNBC\": \"msnbc.com\",\n",
    "    \"CNN\": \"cnn.com\",\n",
    "    \"The Washington Post\": \"washingtonpost.com\",\n",
    "    \"The Guardian\": \"theguardian.com\",\n",
    "    \"The New York Times\": \"nytimes.com\",\n",
    "    \"The Atlantic\": \"theatlantic.com\",\n",
    "    \"NBC News\": \"nbcnews.com\"\n",
    "}"
   ]
  },
  {
   "cell_type": "code",
   "execution_count": 18,
   "metadata": {},
   "outputs": [],
   "source": [
    "selected_domains = [v for k, v in {**liberal, **conservative}.items()]"
   ]
  },
  {
   "cell_type": "code",
   "execution_count": 19,
   "metadata": {},
   "outputs": [],
   "source": [
    "def check_contains(domain):\n",
    "    response = False\n",
    "    for check in selected_domains:\n",
    "        if check in domain:\n",
    "            response = True\n",
    "    return response"
   ]
  },
  {
   "cell_type": "code",
   "execution_count": 20,
   "metadata": {},
   "outputs": [],
   "source": [
    "mask = dataset[\"domain\"].apply(check_contains)"
   ]
  },
  {
   "cell_type": "code",
   "execution_count": 21,
   "metadata": {},
   "outputs": [],
   "source": [
    "selected_dataset = dataset[mask]"
   ]
  },
  {
   "cell_type": "code",
   "execution_count": 22,
   "metadata": {},
   "outputs": [
    {
     "data": {
      "text/plain": [
       "(5812, 10)"
      ]
     },
     "execution_count": 22,
     "metadata": {},
     "output_type": "execute_result"
    }
   ],
   "source": [
    "selected_dataset.shape"
   ]
  }
 ],
 "metadata": {
  "kernelspec": {
   "display_name": "Python 3",
   "language": "python",
   "name": "python3"
  },
  "language_info": {
   "codemirror_mode": {
    "name": "ipython",
    "version": 3
   },
   "file_extension": ".py",
   "mimetype": "text/x-python",
   "name": "python",
   "nbconvert_exporter": "python",
   "pygments_lexer": "ipython3",
   "version": "3.6.2"
  }
 },
 "nbformat": 4,
 "nbformat_minor": 2
}
