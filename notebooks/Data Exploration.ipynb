{
 "cells": [
  {
   "cell_type": "markdown",
   "metadata": {},
   "source": [
    "# News Articles Data Exploration"
   ]
  },
  {
   "cell_type": "markdown",
   "metadata": {},
   "source": [
    "### Importing modules"
   ]
  },
  {
   "cell_type": "code",
   "execution_count": 107,
   "metadata": {},
   "outputs": [],
   "source": [
    "import pandas as pd\n",
    "import numpy as np\n",
    "import re"
   ]
  },
  {
   "cell_type": "markdown",
   "metadata": {},
   "source": [
    "### Loading data"
   ]
  },
  {
   "cell_type": "code",
   "execution_count": 2,
   "metadata": {},
   "outputs": [],
   "source": [
    "dataset = pd.read_csv(\"../data_processed/news_articles_joined.csv\", index_col=0)"
   ]
  },
  {
   "cell_type": "markdown",
   "metadata": {},
   "source": [
    "### Data Cleaning"
   ]
  },
  {
   "cell_type": "markdown",
   "metadata": {},
   "source": [
    "Removing articles where the content is not string."
   ]
  },
  {
   "cell_type": "code",
   "execution_count": 3,
   "metadata": {},
   "outputs": [],
   "source": [
    "mask_string = dataset[\"content\"].apply(lambda x: isinstance(x, str))\n",
    "dataset = dataset[mask_string]"
   ]
  },
  {
   "cell_type": "markdown",
   "metadata": {},
   "source": [
    "Setting a columns with the size of each article content."
   ]
  },
  {
   "cell_type": "code",
   "execution_count": 4,
   "metadata": {},
   "outputs": [],
   "source": [
    "content_size = dataset[\"content\"].apply(len)\n",
    "dataset[\"content_size\"] = content_size"
   ]
  },
  {
   "cell_type": "markdown",
   "metadata": {},
   "source": [
    "Histogram of the size of each article."
   ]
  },
  {
   "cell_type": "code",
   "execution_count": 6,
   "metadata": {},
   "outputs": [
    {
     "data": {
      "image/png": "[encoded data removed]",
      "text/plain": [
       "<Figure size 432x288 with 1 Axes>"
      ]
     },
     "metadata": {
      "needs_background": "light"
     },
     "output_type": "display_data"
    }
   ],
   "source": [
    "dataset[\"content_size\"].hist(bins=50);"
   ]
  },
  {
   "cell_type": "markdown",
   "metadata": {},
   "source": [
    "Content size description:"
   ]
  },
  {
   "cell_type": "code",
   "execution_count": 7,
   "metadata": {},
   "outputs": [
    {
     "data": {
      "text/plain": [
       "count    44846.000000\n",
       "mean      1713.798979\n",
       "std       2923.847913\n",
       "min          1.000000\n",
       "25%         99.000000\n",
       "50%        344.000000\n",
       "75%       2455.000000\n",
       "max      58442.000000\n",
       "Name: content_size, dtype: float64"
      ]
     },
     "execution_count": 7,
     "metadata": {},
     "output_type": "execute_result"
    }
   ],
   "source": [
    "dataset[\"content_size\"].describe()"
   ]
  },
  {
   "cell_type": "markdown",
   "metadata": {},
   "source": [
    "Selecting articles with more than 300 characters"
   ]
  },
  {
   "cell_type": "code",
   "execution_count": 8,
   "metadata": {},
   "outputs": [],
   "source": [
    "mask_size = dataset[\"content_size\"] > 300\n",
    "dataset = dataset[mask_size]"
   ]
  },
  {
   "cell_type": "markdown",
   "metadata": {},
   "source": [
    "New histogram"
   ]
  },
  {
   "cell_type": "code",
   "execution_count": 9,
   "metadata": {},
   "outputs": [
    {
     "data": {
      "image/png": "[encoded data removed]",
      "text/plain": [
       "<Figure size 432x288 with 1 Axes>"
      ]
     },
     "metadata": {
      "needs_background": "light"
     },
     "output_type": "display_data"
    }
   ],
   "source": [
    "dataset[\"content_size\"].hist(bins=50);"
   ]
  },
  {
   "cell_type": "code",
   "execution_count": 10,
   "metadata": {},
   "outputs": [
    {
     "data": {
      "text/plain": [
       "count    23445.000000\n",
       "mean      3176.511879\n",
       "std       3444.411623\n",
       "min        301.000000\n",
       "25%        756.000000\n",
       "50%       2303.000000\n",
       "75%       4518.000000\n",
       "max      58442.000000\n",
       "Name: content_size, dtype: float64"
      ]
     },
     "execution_count": 10,
     "metadata": {},
     "output_type": "execute_result"
    }
   ],
   "source": [
    "dataset[\"content_size\"].describe()"
   ]
  },
  {
   "cell_type": "markdown",
   "metadata": {},
   "source": [
    "Cleaning publication names"
   ]
  },
  {
   "cell_type": "code",
   "execution_count": 11,
   "metadata": {},
   "outputs": [],
   "source": [
    "def clean_publication(publication):\n",
    "    # Leaving only the domain\n",
    "    return re.sub(r\"(https?://)?(www([0-9])?\\.)?\", \"\", publication)"
   ]
  },
  {
   "cell_type": "code",
   "execution_count": 12,
   "metadata": {},
   "outputs": [],
   "source": [
    "cleaned_publication = dataset[\"publication\"].apply(clean_publication)"
   ]
  },
  {
   "cell_type": "code",
   "execution_count": 13,
   "metadata": {},
   "outputs": [],
   "source": [
    "dataset[\"domain\"] = cleaned_publication"
   ]
  },
  {
   "cell_type": "code",
   "execution_count": 14,
   "metadata": {},
   "outputs": [
    {
     "data": {
      "text/html": [
       "<div>\n",
       "<style scoped>\n",
       "    .dataframe tbody tr th:only-of-type {\n",
       "        vertical-align: middle;\n",
       "    }\n",
       "\n",
       "    .dataframe tbody tr th {\n",
       "        vertical-align: top;\n",
       "    }\n",
       "\n",
       "    .dataframe thead th {\n",
       "        text-align: right;\n",
       "    }\n",
       "</style>\n",
       "<table border=\"1\" class=\"dataframe\">\n",
       "  <thead>\n",
       "    <tr style=\"text-align: right;\">\n",
       "      <th></th>\n",
       "      <th>title</th>\n",
       "      <th>publication</th>\n",
       "      <th>authors</th>\n",
       "      <th>date</th>\n",
       "      <th>year</th>\n",
       "      <th>month</th>\n",
       "      <th>url</th>\n",
       "      <th>content</th>\n",
       "      <th>content_size</th>\n",
       "      <th>domain</th>\n",
       "    </tr>\n",
       "  </thead>\n",
       "  <tbody>\n",
       "    <tr>\n",
       "      <th>0</th>\n",
       "      <td>Hillary Clinton: ‘China, if you’re listening, ...</td>\n",
       "      <td>https://www.washingtonpost.com</td>\n",
       "      <td>['John Wagner', \"National Reporter Leading The...</td>\n",
       "      <td>05-02-2019</td>\n",
       "      <td>2019.0</td>\n",
       "      <td>5.0</td>\n",
       "      <td>https://www.washingtonpost.com/politics/hillar...</td>\n",
       "      <td>Hillary Clinton speaks at the Time 100 Summit ...</td>\n",
       "      <td>2114</td>\n",
       "      <td>washingtonpost.com</td>\n",
       "    </tr>\n",
       "    <tr>\n",
       "      <th>1</th>\n",
       "      <td>Exclusive: Foreign government leases at Trump ...</td>\n",
       "      <td>https://www.reuters.com</td>\n",
       "      <td>['Julia Harte', 'Min Read']</td>\n",
       "      <td>05-02-2019</td>\n",
       "      <td>2019.0</td>\n",
       "      <td>5.0</td>\n",
       "      <td>https://www.reuters.com/article/us-usa-trump-e...</td>\n",
       "      <td>WASHINGTON (Reuters) - The U.S. State Departme...</td>\n",
       "      <td>8753</td>\n",
       "      <td>reuters.com</td>\n",
       "    </tr>\n",
       "    <tr>\n",
       "      <th>2</th>\n",
       "      <td>Trump's deal with Democrats leaves GOP rolling...</td>\n",
       "      <td>https://www.politico.com</td>\n",
       "      <td>['Melanie Zanona', 'Burgess Everett', 'Megan C...</td>\n",
       "      <td>05-02-2019</td>\n",
       "      <td>2019.0</td>\n",
       "      <td>5.0</td>\n",
       "      <td>https://www.politico.com/story/2019/05/02/trum...</td>\n",
       "      <td>“I don’t see where the pay-fors will come from...</td>\n",
       "      <td>6213</td>\n",
       "      <td>politico.com</td>\n",
       "    </tr>\n",
       "    <tr>\n",
       "      <th>3</th>\n",
       "      <td>CNN Poll: Trump's approval rating on the econo...</td>\n",
       "      <td>https://www.cnn.com</td>\n",
       "      <td>['Grace Sparks']</td>\n",
       "      <td>05-02-2019</td>\n",
       "      <td>2019.0</td>\n",
       "      <td>5.0</td>\n",
       "      <td>https://www.cnn.com/2019/05/02/politics/cnn-po...</td>\n",
       "      <td>(CNN) President Donald Trump hits a new high o...</td>\n",
       "      <td>5689</td>\n",
       "      <td>cnn.com</td>\n",
       "    </tr>\n",
       "    <tr>\n",
       "      <th>4</th>\n",
       "      <td>Biden Faces Conflict of Interest Questions Tha...</td>\n",
       "      <td>https://www.nytimes.com</td>\n",
       "      <td>['Kenneth P. Vogel', 'Iuliia Mendel']</td>\n",
       "      <td>05-01-2019</td>\n",
       "      <td>2019.0</td>\n",
       "      <td>5.0</td>\n",
       "      <td>https://www.nytimes.com/2019/05/01/us/politics...</td>\n",
       "      <td>The broad outlines of how the Bidens’ roles in...</td>\n",
       "      <td>1457</td>\n",
       "      <td>nytimes.com</td>\n",
       "    </tr>\n",
       "  </tbody>\n",
       "</table>\n",
       "</div>"
      ],
      "text/plain": [
       "                                               title  \\\n",
       "0  Hillary Clinton: ‘China, if you’re listening, ...   \n",
       "1  Exclusive: Foreign government leases at Trump ...   \n",
       "2  Trump's deal with Democrats leaves GOP rolling...   \n",
       "3  CNN Poll: Trump's approval rating on the econo...   \n",
       "4  Biden Faces Conflict of Interest Questions Tha...   \n",
       "\n",
       "                      publication  \\\n",
       "0  https://www.washingtonpost.com   \n",
       "1         https://www.reuters.com   \n",
       "2        https://www.politico.com   \n",
       "3             https://www.cnn.com   \n",
       "4         https://www.nytimes.com   \n",
       "\n",
       "                                             authors        date    year  \\\n",
       "0  ['John Wagner', \"National Reporter Leading The...  05-02-2019  2019.0   \n",
       "1                        ['Julia Harte', 'Min Read']  05-02-2019  2019.0   \n",
       "2  ['Melanie Zanona', 'Burgess Everett', 'Megan C...  05-02-2019  2019.0   \n",
       "3                                   ['Grace Sparks']  05-02-2019  2019.0   \n",
       "4              ['Kenneth P. Vogel', 'Iuliia Mendel']  05-01-2019  2019.0   \n",
       "\n",
       "   month                                                url  \\\n",
       "0    5.0  https://www.washingtonpost.com/politics/hillar...   \n",
       "1    5.0  https://www.reuters.com/article/us-usa-trump-e...   \n",
       "2    5.0  https://www.politico.com/story/2019/05/02/trum...   \n",
       "3    5.0  https://www.cnn.com/2019/05/02/politics/cnn-po...   \n",
       "4    5.0  https://www.nytimes.com/2019/05/01/us/politics...   \n",
       "\n",
       "                                             content  content_size  \\\n",
       "0  Hillary Clinton speaks at the Time 100 Summit ...          2114   \n",
       "1  WASHINGTON (Reuters) - The U.S. State Departme...          8753   \n",
       "2  “I don’t see where the pay-fors will come from...          6213   \n",
       "3  (CNN) President Donald Trump hits a new high o...          5689   \n",
       "4  The broad outlines of how the Bidens’ roles in...          1457   \n",
       "\n",
       "               domain  \n",
       "0  washingtonpost.com  \n",
       "1         reuters.com  \n",
       "2        politico.com  \n",
       "3             cnn.com  \n",
       "4         nytimes.com  "
      ]
     },
     "execution_count": 14,
     "metadata": {},
     "output_type": "execute_result"
    }
   ],
   "source": [
    "dataset.head()"
   ]
  },
  {
   "cell_type": "markdown",
   "metadata": {},
   "source": [
    "### Pre selected news sources"
   ]
  },
  {
   "cell_type": "markdown",
   "metadata": {},
   "source": [
    "Conservative news sorces and their bias level"
   ]
  },
  {
   "cell_type": "code",
   "execution_count": 15,
   "metadata": {},
   "outputs": [],
   "source": [
    "conservative = {\n",
    "    \"reason.com\": {\n",
    "        \"name\": \"Reason\",\n",
    "        \"level\": 1\n",
    "    },\n",
    "    \"washingtontimes.com\": {\n",
    "        \"name\": \"The Washington Times\", \n",
    "        \"level\": 1\n",
    "    },\n",
    "    \"nationareview.com\": {\n",
    "        \"name\": \"National Review\",\n",
    "        \"level\": 2\n",
    "    },\n",
    "    \"washingtonexaminer.com\": {\n",
    "        \"name\": \"Washington Examiner\",\n",
    "        \"level\": 1\n",
    "    },\n",
    "    \"thefederalist.com\": {\n",
    "        \"name\": \"The Federalist\",\n",
    "        \"level\": 2\n",
    "    },\n",
    "    \"foxnews.com\": {\n",
    "        \"name\": \"Fox News\",\n",
    "        \"level\": 2\n",
    "    },\n",
    "    \"nypost.com\": {\n",
    "        \"name\": \"New York Post\",\n",
    "        \"level\": 2\n",
    "    },\n",
    "    \"theblaze.com\": {\n",
    "        \"name\": \"The Blaze\",\n",
    "        \"level\": 2\n",
    "    },\n",
    "    \"dailycaller.com\": {\n",
    "        \"name\": \"The Daily Caller\",\n",
    "        \"level\": 2\n",
    "    },\n",
    "    \"dailywire.com\": {\n",
    "        \"name\": \"The Daily Wire\",\n",
    "        \"level\": 2\n",
    "    },\n",
    "    \"spectator.org\": {\n",
    "        \"name\": \"Spectator\",\n",
    "        \"level\": 2\n",
    "    }\n",
    "}"
   ]
  },
  {
   "cell_type": "markdown",
   "metadata": {},
   "source": [
    "Liberal news sources and their bias level"
   ]
  },
  {
   "cell_type": "code",
   "execution_count": 16,
   "metadata": {},
   "outputs": [],
   "source": [
    "liberal = {\n",
    "    \"newyorker.com\": {\n",
    "        \"name\": \"The New Yorker\",\n",
    "        \"level\": 2\n",
    "    },\n",
    "    \"motherjones.com\": {\n",
    "        \"name\": \"Mother Jones\",\n",
    "        \"level\": 2\n",
    "    },\n",
    "    \"slate.com\": {\n",
    "        \"name\": \"Slate\",\n",
    "        \"level\": 2\n",
    "    },\n",
    "    \"msnbc.com\": {\n",
    "        \"name\": \"MSNBC\",\n",
    "        \"level\": 2\n",
    "    },\n",
    "    \"cnn.com\": {\n",
    "        \"name\": \"CNN\",\n",
    "        \"level\": 2\n",
    "    },\n",
    "    \"washingtonpost.com\": {\n",
    "        \"name\": \"The Washington Post\",\n",
    "        \"level\": 1\n",
    "    },\n",
    "    \"theguardian.com\": {\n",
    "        \"name\": \"The Guardian\",\n",
    "        \"level\": 1\n",
    "    },\n",
    "    \"nytimes.com\": {\n",
    "        \"name\": \"The New York Times\",\n",
    "        \"level\": 1\n",
    "    },\n",
    "    \"theatlantic.com\": {\n",
    "        \"name\": \"The Atlantic\",\n",
    "        \"level\": 1\n",
    "    },\n",
    "    \"nbcnews.com\": {\n",
    "        \"name\": \"NBC News\",\n",
    "        \"level\": 1\n",
    "    }\n",
    "}"
   ]
  },
  {
   "cell_type": "markdown",
   "metadata": {},
   "source": [
    "News sources considered \"unbiased\""
   ]
  },
  {
   "cell_type": "code",
   "execution_count": 17,
   "metadata": {},
   "outputs": [],
   "source": [
    "central = {\n",
    "    \"reuters.com\": {\n",
    "        \"name\": \"Reuters\",\n",
    "        \"level\": 0\n",
    "    },\n",
    "    \"csmonitor.com\": {\n",
    "        \"name\": \"The Christian Science Monitor\",\n",
    "        \"level\": 0\n",
    "    },\n",
    "    \"fivethirtyeight.com\": {\n",
    "        \"name\": \"FiveThirtyEight\",\n",
    "        \"level\": 0\n",
    "    },\n",
    "    \"bbc.com\": {\n",
    "        \"name\": \"BBC News\",\n",
    "        \"level\": 0\n",
    "    },\n",
    "    \"forbes.com\": {\n",
    "        \"name\": \"Forbes\",\n",
    "        \"level\": 0\n",
    "    }\n",
    "}"
   ]
  },
  {
   "cell_type": "code",
   "execution_count": 50,
   "metadata": {},
   "outputs": [],
   "source": [
    "all_sources = {**central, **liberal, **conservative}\n",
    "selected_domains = all_sources.keys()"
   ]
  },
  {
   "cell_type": "markdown",
   "metadata": {},
   "source": [
    "Some domains in the dataset doesn't contain content of they are not relevant."
   ]
  },
  {
   "cell_type": "code",
   "execution_count": 46,
   "metadata": {},
   "outputs": [],
   "source": [
    "domains_to_be_removed = [\n",
    "    \"radio.foxnews.com\", \n",
    "    \"video.foxnews.com\", \n",
    "    \"money.cnn.com\",\n",
    "    \"s2.washingtonpost.com\",\n",
    "    \"video.newyorker.com\",\n",
    "    \"jobs.washingtonpost.com\",\n",
    "    \"live.washingtonpost.com\",\n",
    "    \"feeds.foxnews.com\"\n",
    "]"
   ]
  },
  {
   "cell_type": "code",
   "execution_count": 48,
   "metadata": {},
   "outputs": [],
   "source": [
    "contains_text_to_be_removed=[\"cnn sport\", \"cnn business\"]"
   ]
  },
  {
   "cell_type": "code",
   "execution_count": 51,
   "metadata": {},
   "outputs": [],
   "source": [
    "# Filter to keep entries where the domain is valid\n",
    "def keep_by_domain(domain):\n",
    "    response = False\n",
    "    for check in selected_domains:\n",
    "        if (check in domain and domain not in domains_to_be_removed):\n",
    "            response = True\n",
    "    return response"
   ]
  },
  {
   "cell_type": "code",
   "execution_count": 52,
   "metadata": {},
   "outputs": [],
   "source": [
    "# Filter to keep texts that doesn't contain texts that reference them as a non-relevant article\n",
    "def keep_by_text(text):\n",
    "    response = False\n",
    "    for check in contains_text_to_be_removed:\n",
    "        if check in text.lower():\n",
    "            response = True\n",
    "    \n",
    "    return not response"
   ]
  },
  {
   "cell_type": "code",
   "execution_count": 24,
   "metadata": {},
   "outputs": [],
   "source": [
    "mask_domain = dataset[\"domain\"].apply(keep_by_domain)"
   ]
  },
  {
   "cell_type": "code",
   "execution_count": 25,
   "metadata": {},
   "outputs": [],
   "source": [
    "mask_text = dataset[\"content\"].apply(keep_by_text)"
   ]
  },
  {
   "cell_type": "code",
   "execution_count": 32,
   "metadata": {},
   "outputs": [],
   "source": [
    "selected_dataset = dataset[(mask_domain & mask_text)].copy()"
   ]
  },
  {
   "cell_type": "code",
   "execution_count": 33,
   "metadata": {},
   "outputs": [
    {
     "data": {
      "text/plain": [
       "(7762, 10)"
      ]
     },
     "execution_count": 33,
     "metadata": {},
     "output_type": "execute_result"
    }
   ],
   "source": [
    "selected_dataset.shape"
   ]
  },
  {
   "cell_type": "code",
   "execution_count": 34,
   "metadata": {},
   "outputs": [],
   "source": [
    "def normalize_domains(domain):\n",
    "    response = domain\n",
    "    for check in selected_domains:\n",
    "        if check in domain:\n",
    "            response = check\n",
    "            \n",
    "    return response"
   ]
  },
  {
   "cell_type": "code",
   "execution_count": 35,
   "metadata": {},
   "outputs": [],
   "source": [
    "selected_dataset[\"domain\"] = selected_dataset[\"domain\"].apply(normalize_domains)"
   ]
  },
  {
   "cell_type": "code",
   "execution_count": 36,
   "metadata": {},
   "outputs": [],
   "source": [
    "liberal_list = liberal.keys()\n",
    "conservative_list = conservative.keys()"
   ]
  },
  {
   "cell_type": "code",
   "execution_count": 77,
   "metadata": {},
   "outputs": [],
   "source": [
    "def bias_side(domain):\n",
    "    if domain in liberal_list:\n",
    "        response = 0\n",
    "    elif domain in conservative_list:\n",
    "        response = 1\n",
    "    else:\n",
    "        response = None\n",
    "    \n",
    "    return response"
   ]
  },
  {
   "cell_type": "code",
   "execution_count": 78,
   "metadata": {},
   "outputs": [],
   "source": [
    "def bias_name(label):\n",
    "    if label == 0:\n",
    "        return \"liberal\"\n",
    "    elif label == 1:\n",
    "        return \"conservative\"\n",
    "    else:\n",
    "        return \"central\""
   ]
  },
  {
   "cell_type": "code",
   "execution_count": 43,
   "metadata": {},
   "outputs": [],
   "source": [
    "selected_dataset[\"label\"] = selected_dataset[\"domain\"].apply(bias_side)"
   ]
  },
  {
   "cell_type": "code",
   "execution_count": 79,
   "metadata": {},
   "outputs": [],
   "source": [
    "selected_dataset[\"bias_name\"] = selected_dataset[\"label\"].apply(bias_name)"
   ]
  },
  {
   "cell_type": "code",
   "execution_count": 39,
   "metadata": {},
   "outputs": [],
   "source": [
    "def bias_level(domain):\n",
    "    domain_meta = all_sources.get(domain, {})\n",
    "    return domain_meta.get(\"level\")"
   ]
  },
  {
   "cell_type": "code",
   "execution_count": 40,
   "metadata": {},
   "outputs": [],
   "source": [
    "selected_dataset[\"level\"] = selected_dataset[\"domain\"].apply(bias_level)"
   ]
  },
  {
   "cell_type": "code",
   "execution_count": 44,
   "metadata": {},
   "outputs": [
    {
     "data": {
      "text/html": [
       "<div>\n",
       "<style scoped>\n",
       "    .dataframe tbody tr th:only-of-type {\n",
       "        vertical-align: middle;\n",
       "    }\n",
       "\n",
       "    .dataframe tbody tr th {\n",
       "        vertical-align: top;\n",
       "    }\n",
       "\n",
       "    .dataframe thead th {\n",
       "        text-align: right;\n",
       "    }\n",
       "</style>\n",
       "<table border=\"1\" class=\"dataframe\">\n",
       "  <thead>\n",
       "    <tr style=\"text-align: right;\">\n",
       "      <th></th>\n",
       "      <th>title</th>\n",
       "      <th>publication</th>\n",
       "      <th>authors</th>\n",
       "      <th>date</th>\n",
       "      <th>year</th>\n",
       "      <th>month</th>\n",
       "      <th>url</th>\n",
       "      <th>content</th>\n",
       "      <th>content_size</th>\n",
       "      <th>domain</th>\n",
       "      <th>label</th>\n",
       "      <th>level</th>\n",
       "    </tr>\n",
       "  </thead>\n",
       "  <tbody>\n",
       "    <tr>\n",
       "      <th>0</th>\n",
       "      <td>Hillary Clinton: ‘China, if you’re listening, ...</td>\n",
       "      <td>https://www.washingtonpost.com</td>\n",
       "      <td>['John Wagner', \"National Reporter Leading The...</td>\n",
       "      <td>05-02-2019</td>\n",
       "      <td>2019.0</td>\n",
       "      <td>5.0</td>\n",
       "      <td>https://www.washingtonpost.com/politics/hillar...</td>\n",
       "      <td>Hillary Clinton speaks at the Time 100 Summit ...</td>\n",
       "      <td>2114</td>\n",
       "      <td>washingtonpost.com</td>\n",
       "      <td>0.0</td>\n",
       "      <td>1</td>\n",
       "    </tr>\n",
       "    <tr>\n",
       "      <th>1</th>\n",
       "      <td>Exclusive: Foreign government leases at Trump ...</td>\n",
       "      <td>https://www.reuters.com</td>\n",
       "      <td>['Julia Harte', 'Min Read']</td>\n",
       "      <td>05-02-2019</td>\n",
       "      <td>2019.0</td>\n",
       "      <td>5.0</td>\n",
       "      <td>https://www.reuters.com/article/us-usa-trump-e...</td>\n",
       "      <td>WASHINGTON (Reuters) - The U.S. State Departme...</td>\n",
       "      <td>8753</td>\n",
       "      <td>reuters.com</td>\n",
       "      <td>NaN</td>\n",
       "      <td>0</td>\n",
       "    </tr>\n",
       "    <tr>\n",
       "      <th>3</th>\n",
       "      <td>CNN Poll: Trump's approval rating on the econo...</td>\n",
       "      <td>https://www.cnn.com</td>\n",
       "      <td>['Grace Sparks']</td>\n",
       "      <td>05-02-2019</td>\n",
       "      <td>2019.0</td>\n",
       "      <td>5.0</td>\n",
       "      <td>https://www.cnn.com/2019/05/02/politics/cnn-po...</td>\n",
       "      <td>(CNN) President Donald Trump hits a new high o...</td>\n",
       "      <td>5689</td>\n",
       "      <td>cnn.com</td>\n",
       "      <td>0.0</td>\n",
       "      <td>2</td>\n",
       "    </tr>\n",
       "    <tr>\n",
       "      <th>4</th>\n",
       "      <td>Biden Faces Conflict of Interest Questions Tha...</td>\n",
       "      <td>https://www.nytimes.com</td>\n",
       "      <td>['Kenneth P. Vogel', 'Iuliia Mendel']</td>\n",
       "      <td>05-01-2019</td>\n",
       "      <td>2019.0</td>\n",
       "      <td>5.0</td>\n",
       "      <td>https://www.nytimes.com/2019/05/01/us/politics...</td>\n",
       "      <td>The broad outlines of how the Bidens’ roles in...</td>\n",
       "      <td>1457</td>\n",
       "      <td>nytimes.com</td>\n",
       "      <td>0.0</td>\n",
       "      <td>1</td>\n",
       "    </tr>\n",
       "    <tr>\n",
       "      <th>8</th>\n",
       "      <td>Mark Meadows sends criminal referral targeting...</td>\n",
       "      <td>https://www.washingtonexaminer.com</td>\n",
       "      <td>[]</td>\n",
       "      <td>05-02-2019</td>\n",
       "      <td>2019.0</td>\n",
       "      <td>5.0</td>\n",
       "      <td>https://www.washingtonexaminer.com/news/mark-m...</td>\n",
       "      <td>Nellie Ohr, the wife of Justice Department off...</td>\n",
       "      <td>5229</td>\n",
       "      <td>washingtonexaminer.com</td>\n",
       "      <td>1.0</td>\n",
       "      <td>1</td>\n",
       "    </tr>\n",
       "  </tbody>\n",
       "</table>\n",
       "</div>"
      ],
      "text/plain": [
       "                                               title  \\\n",
       "0  Hillary Clinton: ‘China, if you’re listening, ...   \n",
       "1  Exclusive: Foreign government leases at Trump ...   \n",
       "3  CNN Poll: Trump's approval rating on the econo...   \n",
       "4  Biden Faces Conflict of Interest Questions Tha...   \n",
       "8  Mark Meadows sends criminal referral targeting...   \n",
       "\n",
       "                          publication  \\\n",
       "0      https://www.washingtonpost.com   \n",
       "1             https://www.reuters.com   \n",
       "3                 https://www.cnn.com   \n",
       "4             https://www.nytimes.com   \n",
       "8  https://www.washingtonexaminer.com   \n",
       "\n",
       "                                             authors        date    year  \\\n",
       "0  ['John Wagner', \"National Reporter Leading The...  05-02-2019  2019.0   \n",
       "1                        ['Julia Harte', 'Min Read']  05-02-2019  2019.0   \n",
       "3                                   ['Grace Sparks']  05-02-2019  2019.0   \n",
       "4              ['Kenneth P. Vogel', 'Iuliia Mendel']  05-01-2019  2019.0   \n",
       "8                                                 []  05-02-2019  2019.0   \n",
       "\n",
       "   month                                                url  \\\n",
       "0    5.0  https://www.washingtonpost.com/politics/hillar...   \n",
       "1    5.0  https://www.reuters.com/article/us-usa-trump-e...   \n",
       "3    5.0  https://www.cnn.com/2019/05/02/politics/cnn-po...   \n",
       "4    5.0  https://www.nytimes.com/2019/05/01/us/politics...   \n",
       "8    5.0  https://www.washingtonexaminer.com/news/mark-m...   \n",
       "\n",
       "                                             content  content_size  \\\n",
       "0  Hillary Clinton speaks at the Time 100 Summit ...          2114   \n",
       "1  WASHINGTON (Reuters) - The U.S. State Departme...          8753   \n",
       "3  (CNN) President Donald Trump hits a new high o...          5689   \n",
       "4  The broad outlines of how the Bidens’ roles in...          1457   \n",
       "8  Nellie Ohr, the wife of Justice Department off...          5229   \n",
       "\n",
       "                   domain  label  level  \n",
       "0      washingtonpost.com    0.0      1  \n",
       "1             reuters.com    NaN      0  \n",
       "3                 cnn.com    0.0      2  \n",
       "4             nytimes.com    0.0      1  \n",
       "8  washingtonexaminer.com    1.0      1  "
      ]
     },
     "execution_count": 44,
     "metadata": {},
     "output_type": "execute_result"
    }
   ],
   "source": [
    "selected_dataset.head()"
   ]
  },
  {
   "cell_type": "markdown",
   "metadata": {},
   "source": [
    "### Classes balance"
   ]
  },
  {
   "cell_type": "code",
   "execution_count": 80,
   "metadata": {},
   "outputs": [],
   "source": [
    "news_count = selected_dataset.groupby([\"domain\", \"bias_name\", \"level\"]).count()[\"publication\"].reset_index()\n",
    "news_count.columns = [\"domain\", \"bias_name\", \"level\", \"count\"]"
   ]
  },
  {
   "cell_type": "code",
   "execution_count": 81,
   "metadata": {},
   "outputs": [
    {
     "data": {
      "text/html": [
       "<div>\n",
       "<style scoped>\n",
       "    .dataframe tbody tr th:only-of-type {\n",
       "        vertical-align: middle;\n",
       "    }\n",
       "\n",
       "    .dataframe tbody tr th {\n",
       "        vertical-align: top;\n",
       "    }\n",
       "\n",
       "    .dataframe thead th {\n",
       "        text-align: right;\n",
       "    }\n",
       "</style>\n",
       "<table border=\"1\" class=\"dataframe\">\n",
       "  <thead>\n",
       "    <tr style=\"text-align: right;\">\n",
       "      <th></th>\n",
       "      <th>domain</th>\n",
       "      <th>bias_name</th>\n",
       "      <th>level</th>\n",
       "      <th>count</th>\n",
       "    </tr>\n",
       "  </thead>\n",
       "  <tbody>\n",
       "    <tr>\n",
       "      <th>0</th>\n",
       "      <td>bbc.com</td>\n",
       "      <td>central</td>\n",
       "      <td>0</td>\n",
       "      <td>439</td>\n",
       "    </tr>\n",
       "    <tr>\n",
       "      <th>1</th>\n",
       "      <td>cnn.com</td>\n",
       "      <td>liberal</td>\n",
       "      <td>2</td>\n",
       "      <td>1448</td>\n",
       "    </tr>\n",
       "    <tr>\n",
       "      <th>2</th>\n",
       "      <td>dailycaller.com</td>\n",
       "      <td>conservative</td>\n",
       "      <td>2</td>\n",
       "      <td>82</td>\n",
       "    </tr>\n",
       "    <tr>\n",
       "      <th>3</th>\n",
       "      <td>dailywire.com</td>\n",
       "      <td>conservative</td>\n",
       "      <td>2</td>\n",
       "      <td>358</td>\n",
       "    </tr>\n",
       "    <tr>\n",
       "      <th>4</th>\n",
       "      <td>fivethirtyeight.com</td>\n",
       "      <td>central</td>\n",
       "      <td>0</td>\n",
       "      <td>57</td>\n",
       "    </tr>\n",
       "    <tr>\n",
       "      <th>5</th>\n",
       "      <td>forbes.com</td>\n",
       "      <td>central</td>\n",
       "      <td>0</td>\n",
       "      <td>524</td>\n",
       "    </tr>\n",
       "    <tr>\n",
       "      <th>6</th>\n",
       "      <td>foxnews.com</td>\n",
       "      <td>conservative</td>\n",
       "      <td>2</td>\n",
       "      <td>906</td>\n",
       "    </tr>\n",
       "    <tr>\n",
       "      <th>7</th>\n",
       "      <td>motherjones.com</td>\n",
       "      <td>liberal</td>\n",
       "      <td>2</td>\n",
       "      <td>108</td>\n",
       "    </tr>\n",
       "    <tr>\n",
       "      <th>8</th>\n",
       "      <td>msnbc.com</td>\n",
       "      <td>liberal</td>\n",
       "      <td>2</td>\n",
       "      <td>158</td>\n",
       "    </tr>\n",
       "    <tr>\n",
       "      <th>9</th>\n",
       "      <td>nbcnews.com</td>\n",
       "      <td>liberal</td>\n",
       "      <td>1</td>\n",
       "      <td>508</td>\n",
       "    </tr>\n",
       "    <tr>\n",
       "      <th>10</th>\n",
       "      <td>newyorker.com</td>\n",
       "      <td>liberal</td>\n",
       "      <td>2</td>\n",
       "      <td>2</td>\n",
       "    </tr>\n",
       "    <tr>\n",
       "      <th>11</th>\n",
       "      <td>nypost.com</td>\n",
       "      <td>conservative</td>\n",
       "      <td>2</td>\n",
       "      <td>4</td>\n",
       "    </tr>\n",
       "    <tr>\n",
       "      <th>12</th>\n",
       "      <td>nytimes.com</td>\n",
       "      <td>liberal</td>\n",
       "      <td>1</td>\n",
       "      <td>58</td>\n",
       "    </tr>\n",
       "    <tr>\n",
       "      <th>13</th>\n",
       "      <td>reason.com</td>\n",
       "      <td>conservative</td>\n",
       "      <td>1</td>\n",
       "      <td>831</td>\n",
       "    </tr>\n",
       "    <tr>\n",
       "      <th>14</th>\n",
       "      <td>reuters.com</td>\n",
       "      <td>central</td>\n",
       "      <td>0</td>\n",
       "      <td>25</td>\n",
       "    </tr>\n",
       "    <tr>\n",
       "      <th>15</th>\n",
       "      <td>slate.com</td>\n",
       "      <td>liberal</td>\n",
       "      <td>2</td>\n",
       "      <td>552</td>\n",
       "    </tr>\n",
       "    <tr>\n",
       "      <th>16</th>\n",
       "      <td>spectator.org</td>\n",
       "      <td>conservative</td>\n",
       "      <td>2</td>\n",
       "      <td>86</td>\n",
       "    </tr>\n",
       "    <tr>\n",
       "      <th>17</th>\n",
       "      <td>theatlantic.com</td>\n",
       "      <td>liberal</td>\n",
       "      <td>1</td>\n",
       "      <td>4</td>\n",
       "    </tr>\n",
       "    <tr>\n",
       "      <th>18</th>\n",
       "      <td>theblaze.com</td>\n",
       "      <td>conservative</td>\n",
       "      <td>2</td>\n",
       "      <td>579</td>\n",
       "    </tr>\n",
       "    <tr>\n",
       "      <th>19</th>\n",
       "      <td>thefederalist.com</td>\n",
       "      <td>conservative</td>\n",
       "      <td>2</td>\n",
       "      <td>305</td>\n",
       "    </tr>\n",
       "    <tr>\n",
       "      <th>20</th>\n",
       "      <td>theguardian.com</td>\n",
       "      <td>liberal</td>\n",
       "      <td>1</td>\n",
       "      <td>633</td>\n",
       "    </tr>\n",
       "    <tr>\n",
       "      <th>21</th>\n",
       "      <td>washingtonexaminer.com</td>\n",
       "      <td>conservative</td>\n",
       "      <td>1</td>\n",
       "      <td>36</td>\n",
       "    </tr>\n",
       "    <tr>\n",
       "      <th>22</th>\n",
       "      <td>washingtonpost.com</td>\n",
       "      <td>liberal</td>\n",
       "      <td>1</td>\n",
       "      <td>34</td>\n",
       "    </tr>\n",
       "    <tr>\n",
       "      <th>23</th>\n",
       "      <td>washingtontimes.com</td>\n",
       "      <td>conservative</td>\n",
       "      <td>1</td>\n",
       "      <td>25</td>\n",
       "    </tr>\n",
       "  </tbody>\n",
       "</table>\n",
       "</div>"
      ],
      "text/plain": [
       "                    domain     bias_name  level  count\n",
       "0                  bbc.com       central      0    439\n",
       "1                  cnn.com       liberal      2   1448\n",
       "2          dailycaller.com  conservative      2     82\n",
       "3            dailywire.com  conservative      2    358\n",
       "4      fivethirtyeight.com       central      0     57\n",
       "5               forbes.com       central      0    524\n",
       "6              foxnews.com  conservative      2    906\n",
       "7          motherjones.com       liberal      2    108\n",
       "8                msnbc.com       liberal      2    158\n",
       "9              nbcnews.com       liberal      1    508\n",
       "10           newyorker.com       liberal      2      2\n",
       "11              nypost.com  conservative      2      4\n",
       "12             nytimes.com       liberal      1     58\n",
       "13              reason.com  conservative      1    831\n",
       "14             reuters.com       central      0     25\n",
       "15               slate.com       liberal      2    552\n",
       "16           spectator.org  conservative      2     86\n",
       "17         theatlantic.com       liberal      1      4\n",
       "18            theblaze.com  conservative      2    579\n",
       "19       thefederalist.com  conservative      2    305\n",
       "20         theguardian.com       liberal      1    633\n",
       "21  washingtonexaminer.com  conservative      1     36\n",
       "22      washingtonpost.com       liberal      1     34\n",
       "23     washingtontimes.com  conservative      1     25"
      ]
     },
     "execution_count": 81,
     "metadata": {},
     "output_type": "execute_result"
    }
   ],
   "source": [
    "news_count"
   ]
  },
  {
   "cell_type": "markdown",
   "metadata": {},
   "source": [
    "**Number of articles by news sources**"
   ]
  },
  {
   "cell_type": "code",
   "execution_count": 82,
   "metadata": {},
   "outputs": [
    {
     "data": {
      "image/png": "[encoded data removed]",
      "text/plain": [
       "<Figure size 432x288 with 1 Axes>"
      ]
     },
     "metadata": {
      "needs_background": "light"
     },
     "output_type": "display_data"
    }
   ],
   "source": [
    "news_count.plot(kind=\"bar\", x=\"domain\", y=\"count\");"
   ]
  },
  {
   "cell_type": "markdown",
   "metadata": {},
   "source": [
    "**Number of articles by bias**"
   ]
  },
  {
   "cell_type": "code",
   "execution_count": 87,
   "metadata": {},
   "outputs": [],
   "source": [
    "bias_count = news_count.groupby(\"bias_name\").sum().reset_index()\n",
    "bias_count[\"percentage\"] = bias_count[\"count\"] / bias_count[\"count\"].sum() * 100\n",
    "bias_count = bias_count[[\"bias_name\", \"percentage\", \"count\"]]"
   ]
  },
  {
   "cell_type": "code",
   "execution_count": 88,
   "metadata": {},
   "outputs": [
    {
     "data": {
      "text/html": [
       "<div>\n",
       "<style scoped>\n",
       "    .dataframe tbody tr th:only-of-type {\n",
       "        vertical-align: middle;\n",
       "    }\n",
       "\n",
       "    .dataframe tbody tr th {\n",
       "        vertical-align: top;\n",
       "    }\n",
       "\n",
       "    .dataframe thead th {\n",
       "        text-align: right;\n",
       "    }\n",
       "</style>\n",
       "<table border=\"1\" class=\"dataframe\">\n",
       "  <thead>\n",
       "    <tr style=\"text-align: right;\">\n",
       "      <th></th>\n",
       "      <th>bias_name</th>\n",
       "      <th>percentage</th>\n",
       "      <th>count</th>\n",
       "    </tr>\n",
       "  </thead>\n",
       "  <tbody>\n",
       "    <tr>\n",
       "      <th>0</th>\n",
       "      <td>central</td>\n",
       "      <td>13.463025</td>\n",
       "      <td>1045</td>\n",
       "    </tr>\n",
       "    <tr>\n",
       "      <th>1</th>\n",
       "      <td>conservative</td>\n",
       "      <td>41.381087</td>\n",
       "      <td>3212</td>\n",
       "    </tr>\n",
       "    <tr>\n",
       "      <th>2</th>\n",
       "      <td>liberal</td>\n",
       "      <td>45.155888</td>\n",
       "      <td>3505</td>\n",
       "    </tr>\n",
       "  </tbody>\n",
       "</table>\n",
       "</div>"
      ],
      "text/plain": [
       "      bias_name  percentage  count\n",
       "0       central   13.463025   1045\n",
       "1  conservative   41.381087   3212\n",
       "2       liberal   45.155888   3505"
      ]
     },
     "execution_count": 88,
     "metadata": {},
     "output_type": "execute_result"
    }
   ],
   "source": [
    "bias_count"
   ]
  },
  {
   "cell_type": "code",
   "execution_count": 94,
   "metadata": {},
   "outputs": [
    {
     "data": {
      "image/png": "[encoded data removed]",
      "text/plain": [
       "<Figure size 432x288 with 1 Axes>"
      ]
     },
     "metadata": {},
     "output_type": "display_data"
    }
   ],
   "source": [
    "bias_count.set_index(\"bias_name\").plot(kind=\"pie\", y=\"count\", legend=None);"
   ]
  },
  {
   "cell_type": "markdown",
   "metadata": {},
   "source": [
    "**Number or articles by level**"
   ]
  },
  {
   "cell_type": "code",
   "execution_count": 116,
   "metadata": {},
   "outputs": [],
   "source": [
    "news_by_level = pd.pivot_table(news_count[news_count[\"level\"] > 0], columns=\"bias_name\", index=\"level\", aggfunc=np.sum)\n",
    "news_by_level.columns = news_by_level.columns.droplevel()"
   ]
  },
  {
   "cell_type": "code",
   "execution_count": 117,
   "metadata": {},
   "outputs": [
    {
     "data": {
      "image/png": "[encoded data removed]",
      "text/plain": [
       "<Figure size 432x288 with 1 Axes>"
      ]
     },
     "metadata": {
      "needs_background": "light"
     },
     "output_type": "display_data"
    }
   ],
   "source": [
    "news_by_level.plot.bar(stacked=True);"
   ]
  },
  {
   "cell_type": "code",
   "execution_count": 118,
   "metadata": {},
   "outputs": [
    {
     "data": {
      "text/html": [
       "<div>\n",
       "<style scoped>\n",
       "    .dataframe tbody tr th:only-of-type {\n",
       "        vertical-align: middle;\n",
       "    }\n",
       "\n",
       "    .dataframe tbody tr th {\n",
       "        vertical-align: top;\n",
       "    }\n",
       "\n",
       "    .dataframe thead th {\n",
       "        text-align: right;\n",
       "    }\n",
       "</style>\n",
       "<table border=\"1\" class=\"dataframe\">\n",
       "  <thead>\n",
       "    <tr style=\"text-align: right;\">\n",
       "      <th>bias_name</th>\n",
       "      <th>conservative</th>\n",
       "      <th>liberal</th>\n",
       "    </tr>\n",
       "    <tr>\n",
       "      <th>level</th>\n",
       "      <th></th>\n",
       "      <th></th>\n",
       "    </tr>\n",
       "  </thead>\n",
       "  <tbody>\n",
       "    <tr>\n",
       "      <th>1</th>\n",
       "      <td>892</td>\n",
       "      <td>1237</td>\n",
       "    </tr>\n",
       "    <tr>\n",
       "      <th>2</th>\n",
       "      <td>2320</td>\n",
       "      <td>2268</td>\n",
       "    </tr>\n",
       "  </tbody>\n",
       "</table>\n",
       "</div>"
      ],
      "text/plain": [
       "bias_name  conservative  liberal\n",
       "level                           \n",
       "1                   892     1237\n",
       "2                  2320     2268"
      ]
     },
     "execution_count": 118,
     "metadata": {},
     "output_type": "execute_result"
    }
   ],
   "source": [
    "news_by_level"
   ]
  },
  {
   "cell_type": "markdown",
   "metadata": {},
   "source": [
    "### Exporting data"
   ]
  },
  {
   "cell_type": "code",
   "execution_count": null,
   "metadata": {},
   "outputs": [],
   "source": [
    "selected_dataset.to_csv(\"../data_processed/selected_articles_webhose_google_news.csv\")"
   ]
  }
 ],
 "metadata": {
  "kernelspec": {
   "display_name": "Python 3",
   "language": "python",
   "name": "python3"
  },
  "language_info": {
   "codemirror_mode": {
    "name": "ipython",
    "version": 3
   },
   "file_extension": ".py",
   "mimetype": "text/x-python",
   "name": "python",
   "nbconvert_exporter": "python",
   "pygments_lexer": "ipython3",
   "version": "3.6.2"
  }
 },
 "nbformat": 4,
 "nbformat_minor": 2
}
