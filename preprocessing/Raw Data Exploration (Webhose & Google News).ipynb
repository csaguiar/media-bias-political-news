{
 "cells": [
  {
   "cell_type": "markdown",
   "metadata": {},
   "source": [
    "# News Articles Data Exploration"
   ]
  },
  {
   "cell_type": "markdown",
   "metadata": {},
   "source": [
    "### Importing modules"
   ]
  },
  {
   "cell_type": "code",
   "execution_count": 56,
   "metadata": {},
   "outputs": [],
   "source": [
    "import pandas as pd\n",
    "import numpy as np\n",
    "import re\n",
    "from matplotlib import pyplot as plt\n",
    "plt.style.use('ggplot')"
   ]
  },
  {
   "cell_type": "markdown",
   "metadata": {},
   "source": [
    "### Loading data"
   ]
  },
  {
   "cell_type": "code",
   "execution_count": 57,
   "metadata": {},
   "outputs": [],
   "source": [
    "dataset = pd.read_csv(\"../data_processed/news_articles_joined.csv\", index_col=0)"
   ]
  },
  {
   "cell_type": "markdown",
   "metadata": {},
   "source": [
    "### Data Cleaning"
   ]
  },
  {
   "cell_type": "markdown",
   "metadata": {},
   "source": [
    "Removing articles where the content is not string."
   ]
  },
  {
   "cell_type": "code",
   "execution_count": 58,
   "metadata": {},
   "outputs": [],
   "source": [
    "mask_string = dataset[\"content\"].apply(lambda x: isinstance(x, str))\n",
    "dataset = dataset[mask_string]"
   ]
  },
  {
   "cell_type": "markdown",
   "metadata": {},
   "source": [
    "Selecting articles with more than 300 words"
   ]
  },
  {
   "cell_type": "code",
   "execution_count": 51,
   "metadata": {},
   "outputs": [],
   "source": [
    "def word_count(text):\n",
    "    return len(text.split())"
   ]
  },
  {
   "cell_type": "code",
   "execution_count": 61,
   "metadata": {},
   "outputs": [],
   "source": [
    "dataset[\"word_count\"] = dataset[\"content\"].apply(word_count)"
   ]
  },
  {
   "cell_type": "markdown",
   "metadata": {},
   "source": [
    "Setting a columns with the size of each article content."
   ]
  },
  {
   "cell_type": "code",
   "execution_count": 63,
   "metadata": {},
   "outputs": [
    {
     "data": {
      "image/png": "[encoded data removed]",
      "text/plain": [
       "<Figure size 1152x576 with 1 Axes>"
      ]
     },
     "metadata": {},
     "output_type": "display_data"
    }
   ],
   "source": [
    "dataset[\"word_count\"].hist(bins=100, range=(0, 4000), figsize=(16,8));"
   ]
  },
  {
   "cell_type": "code",
   "execution_count": 64,
   "metadata": {},
   "outputs": [],
   "source": [
    "mask_size = dataset[\"word_count\"] > 200\n",
    "dataset = dataset[mask_size]"
   ]
  },
  {
   "cell_type": "markdown",
   "metadata": {},
   "source": [
    "New histogram"
   ]
  },
  {
   "cell_type": "code",
   "execution_count": 65,
   "metadata": {},
   "outputs": [
    {
     "data": {
      "image/png": "[encoded data removed]",
      "text/plain": [
       "<Figure size 1152x576 with 1 Axes>"
      ]
     },
     "metadata": {},
     "output_type": "display_data"
    }
   ],
   "source": [
    "dataset[\"word_count\"].hist(bins=100, range=(0, 4000), figsize=(16,8));"
   ]
  },
  {
   "cell_type": "markdown",
   "metadata": {},
   "source": [
    "Cleaning publication names"
   ]
  },
  {
   "cell_type": "code",
   "execution_count": 12,
   "metadata": {},
   "outputs": [],
   "source": [
    "def clean_publication(publication):\n",
    "    # Leaving only the domain\n",
    "    return re.sub(r\"(https?://)?(www([0-9])?\\.)?\", \"\", publication)"
   ]
  },
  {
   "cell_type": "code",
   "execution_count": 13,
   "metadata": {},
   "outputs": [],
   "source": [
    "cleaned_publication = dataset[\"publication\"].apply(clean_publication)"
   ]
  },
  {
   "cell_type": "code",
   "execution_count": 14,
   "metadata": {},
   "outputs": [],
   "source": [
    "dataset[\"domain\"] = cleaned_publication"
   ]
  },
  {
   "cell_type": "code",
   "execution_count": 54,
   "metadata": {},
   "outputs": [
    {
     "data": {
      "text/plain": [
       "(27827, 10)"
      ]
     },
     "execution_count": 54,
     "metadata": {},
     "output_type": "execute_result"
    }
   ],
   "source": [
    "dataset.shape"
   ]
  },
  {
   "cell_type": "markdown",
   "metadata": {},
   "source": [
    "### Pre selected news sources"
   ]
  },
  {
   "cell_type": "markdown",
   "metadata": {},
   "source": [
    "Conservative news sorces and their bias level"
   ]
  },
  {
   "cell_type": "code",
   "execution_count": 16,
   "metadata": {},
   "outputs": [],
   "source": [
    "conservative = {\n",
    "    \"reason.com\": {\n",
    "        \"name\": \"Reason\",\n",
    "        \"level\": 1\n",
    "    },\n",
    "    \"washingtontimes.com\": {\n",
    "        \"name\": \"The Washington Times\", \n",
    "        \"level\": 1\n",
    "    },\n",
    "    \"nationareview.com\": {\n",
    "        \"name\": \"National Review\",\n",
    "        \"level\": 2\n",
    "    },\n",
    "    \"washingtonexaminer.com\": {\n",
    "        \"name\": \"Washington Examiner\",\n",
    "        \"level\": 1\n",
    "    },\n",
    "    \"thefederalist.com\": {\n",
    "        \"name\": \"The Federalist\",\n",
    "        \"level\": 2\n",
    "    },\n",
    "    \"foxnews.com\": {\n",
    "        \"name\": \"Fox News\",\n",
    "        \"level\": 2\n",
    "    },\n",
    "    \"nypost.com\": {\n",
    "        \"name\": \"New York Post\",\n",
    "        \"level\": 2\n",
    "    },\n",
    "    \"theblaze.com\": {\n",
    "        \"name\": \"The Blaze\",\n",
    "        \"level\": 2\n",
    "    },\n",
    "    \"dailycaller.com\": {\n",
    "        \"name\": \"The Daily Caller\",\n",
    "        \"level\": 2\n",
    "    },\n",
    "    \"dailywire.com\": {\n",
    "        \"name\": \"The Daily Wire\",\n",
    "        \"level\": 2\n",
    "    },\n",
    "    \"spectator.org\": {\n",
    "        \"name\": \"Spectator\",\n",
    "        \"level\": 2\n",
    "    }\n",
    "}"
   ]
  },
  {
   "cell_type": "markdown",
   "metadata": {},
   "source": [
    "Liberal news sources and their bias level"
   ]
  },
  {
   "cell_type": "code",
   "execution_count": 17,
   "metadata": {},
   "outputs": [],
   "source": [
    "liberal = {\n",
    "    \"newyorker.com\": {\n",
    "        \"name\": \"The New Yorker\",\n",
    "        \"level\": 2\n",
    "    },\n",
    "    \"motherjones.com\": {\n",
    "        \"name\": \"Mother Jones\",\n",
    "        \"level\": 2\n",
    "    },\n",
    "    \"slate.com\": {\n",
    "        \"name\": \"Slate\",\n",
    "        \"level\": 2\n",
    "    },\n",
    "    \"msnbc.com\": {\n",
    "        \"name\": \"MSNBC\",\n",
    "        \"level\": 2\n",
    "    },\n",
    "    \"cnn.com\": {\n",
    "        \"name\": \"CNN\",\n",
    "        \"level\": 2\n",
    "    },\n",
    "    \"washingtonpost.com\": {\n",
    "        \"name\": \"The Washington Post\",\n",
    "        \"level\": 1\n",
    "    },\n",
    "    \"theguardian.com\": {\n",
    "        \"name\": \"The Guardian\",\n",
    "        \"level\": 1\n",
    "    },\n",
    "    \"nytimes.com\": {\n",
    "        \"name\": \"The New York Times\",\n",
    "        \"level\": 1\n",
    "    },\n",
    "    \"theatlantic.com\": {\n",
    "        \"name\": \"The Atlantic\",\n",
    "        \"level\": 1\n",
    "    },\n",
    "    \"nbcnews.com\": {\n",
    "        \"name\": \"NBC News\",\n",
    "        \"level\": 1\n",
    "    }\n",
    "}"
   ]
  },
  {
   "cell_type": "markdown",
   "metadata": {},
   "source": [
    "News sources considered \"unbiased\""
   ]
  },
  {
   "cell_type": "code",
   "execution_count": 18,
   "metadata": {},
   "outputs": [],
   "source": [
    "central = {\n",
    "    \"reuters.com\": {\n",
    "        \"name\": \"Reuters\",\n",
    "        \"level\": 0\n",
    "    },\n",
    "    \"csmonitor.com\": {\n",
    "        \"name\": \"The Christian Science Monitor\",\n",
    "        \"level\": 0\n",
    "    },\n",
    "    \"fivethirtyeight.com\": {\n",
    "        \"name\": \"FiveThirtyEight\",\n",
    "        \"level\": 0\n",
    "    },\n",
    "    \"bbc.com\": {\n",
    "        \"name\": \"BBC News\",\n",
    "        \"level\": 0\n",
    "    },\n",
    "    \"forbes.com\": {\n",
    "        \"name\": \"Forbes\",\n",
    "        \"level\": 0\n",
    "    }\n",
    "}"
   ]
  },
  {
   "cell_type": "code",
   "execution_count": 19,
   "metadata": {},
   "outputs": [],
   "source": [
    "all_sources = {**central, **liberal, **conservative}\n",
    "selected_domains = all_sources.keys()"
   ]
  },
  {
   "cell_type": "markdown",
   "metadata": {},
   "source": [
    "Some domains in the dataset doesn't contain content of they are not relevant."
   ]
  },
  {
   "cell_type": "code",
   "execution_count": 20,
   "metadata": {},
   "outputs": [],
   "source": [
    "domains_to_be_removed = [\n",
    "    \"radio.foxnews.com\", \n",
    "    \"video.foxnews.com\", \n",
    "    \"money.cnn.com\",\n",
    "    \"s2.washingtonpost.com\",\n",
    "    \"video.newyorker.com\",\n",
    "    \"jobs.washingtonpost.com\",\n",
    "    \"live.washingtonpost.com\",\n",
    "    \"feeds.foxnews.com\"\n",
    "]"
   ]
  },
  {
   "cell_type": "code",
   "execution_count": 21,
   "metadata": {},
   "outputs": [],
   "source": [
    "contains_text_to_be_removed = [\"cnn sport\", \"cnn business\"]\n",
    "url_pattern_to_be_removed = [\"theguardian.com/music/\", \"theguardian.com/technology/\"]"
   ]
  },
  {
   "cell_type": "code",
   "execution_count": 22,
   "metadata": {},
   "outputs": [],
   "source": [
    "# Filter to keep entries where the domain is valid\n",
    "def keep_by_domain(domain):\n",
    "    response = False\n",
    "    for check in selected_domains:\n",
    "        if (check in domain and domain not in domains_to_be_removed):\n",
    "            response = True\n",
    "    return response"
   ]
  },
  {
   "cell_type": "code",
   "execution_count": 23,
   "metadata": {},
   "outputs": [],
   "source": [
    "# Filter to keep texts that doesn't contain texts that reference them as a non-relevant article\n",
    "def keep_by_text(text):\n",
    "    response = False\n",
    "    for check in contains_text_to_be_removed:\n",
    "        if check in text.lower():\n",
    "            response = True\n",
    "    \n",
    "    return not response"
   ]
  },
  {
   "cell_type": "code",
   "execution_count": 24,
   "metadata": {},
   "outputs": [],
   "source": [
    "# Filter to keep urls that doesn't contain pieces of strings that references them as a non-relevant article\n",
    "def keep_by_url(url):\n",
    "    response = False\n",
    "    for check in url_pattern_to_be_removed:\n",
    "        if check in url:\n",
    "            response = True\n",
    "    \n",
    "    return not response    "
   ]
  },
  {
   "cell_type": "code",
   "execution_count": 25,
   "metadata": {},
   "outputs": [],
   "source": [
    "mask_domain = dataset[\"domain\"].apply(keep_by_domain)"
   ]
  },
  {
   "cell_type": "code",
   "execution_count": 26,
   "metadata": {},
   "outputs": [],
   "source": [
    "mask_text = dataset[\"content\"].apply(keep_by_text)"
   ]
  },
  {
   "cell_type": "code",
   "execution_count": 27,
   "metadata": {},
   "outputs": [],
   "source": [
    "mask_url = dataset[\"url\"].apply(keep_by_url)"
   ]
  },
  {
   "cell_type": "code",
   "execution_count": 28,
   "metadata": {},
   "outputs": [],
   "source": [
    "selected_dataset = dataset[(mask_domain & mask_text & mask_url)].copy()"
   ]
  },
  {
   "cell_type": "code",
   "execution_count": 29,
   "metadata": {},
   "outputs": [
    {
     "data": {
      "text/plain": [
       "(8526, 11)"
      ]
     },
     "execution_count": 29,
     "metadata": {},
     "output_type": "execute_result"
    }
   ],
   "source": [
    "selected_dataset.shape"
   ]
  },
  {
   "cell_type": "code",
   "execution_count": 30,
   "metadata": {},
   "outputs": [],
   "source": [
    "def normalize_domains(domain):\n",
    "    response = domain\n",
    "    for check in selected_domains:\n",
    "        if check in domain:\n",
    "            response = check\n",
    "            \n",
    "    return response"
   ]
  },
  {
   "cell_type": "code",
   "execution_count": 31,
   "metadata": {},
   "outputs": [],
   "source": [
    "selected_dataset[\"domain\"] = selected_dataset[\"domain\"].apply(normalize_domains)"
   ]
  },
  {
   "cell_type": "code",
   "execution_count": 32,
   "metadata": {},
   "outputs": [],
   "source": [
    "liberal_list = liberal.keys()\n",
    "conservative_list = conservative.keys()"
   ]
  },
  {
   "cell_type": "code",
   "execution_count": 33,
   "metadata": {},
   "outputs": [],
   "source": [
    "def bias_side(domain):\n",
    "    if domain in liberal_list:\n",
    "        response = 0\n",
    "    elif domain in conservative_list:\n",
    "        response = 1\n",
    "    else:\n",
    "        response = None\n",
    "    \n",
    "    return response"
   ]
  },
  {
   "cell_type": "code",
   "execution_count": 34,
   "metadata": {},
   "outputs": [],
   "source": [
    "def bias_name(label):\n",
    "    if label == 0:\n",
    "        return \"liberal\"\n",
    "    elif label == 1:\n",
    "        return \"conservative\"\n",
    "    else:\n",
    "        return \"central\""
   ]
  },
  {
   "cell_type": "code",
   "execution_count": 35,
   "metadata": {},
   "outputs": [],
   "source": [
    "selected_dataset[\"label\"] = selected_dataset[\"domain\"].apply(bias_side)"
   ]
  },
  {
   "cell_type": "code",
   "execution_count": 36,
   "metadata": {},
   "outputs": [],
   "source": [
    "selected_dataset[\"bias_name\"] = selected_dataset[\"label\"].apply(bias_name)"
   ]
  },
  {
   "cell_type": "code",
   "execution_count": 37,
   "metadata": {},
   "outputs": [],
   "source": [
    "def bias_level(domain):\n",
    "    domain_meta = all_sources.get(domain, {})\n",
    "    return domain_meta.get(\"level\")"
   ]
  },
  {
   "cell_type": "code",
   "execution_count": 38,
   "metadata": {},
   "outputs": [],
   "source": [
    "selected_dataset[\"level\"] = selected_dataset[\"domain\"].apply(bias_level)"
   ]
  },
  {
   "cell_type": "code",
   "execution_count": 39,
   "metadata": {},
   "outputs": [
    {
     "data": {
      "text/html": [
       "<div>\n",
       "<style scoped>\n",
       "    .dataframe tbody tr th:only-of-type {\n",
       "        vertical-align: middle;\n",
       "    }\n",
       "\n",
       "    .dataframe tbody tr th {\n",
       "        vertical-align: top;\n",
       "    }\n",
       "\n",
       "    .dataframe thead th {\n",
       "        text-align: right;\n",
       "    }\n",
       "</style>\n",
       "<table border=\"1\" class=\"dataframe\">\n",
       "  <thead>\n",
       "    <tr style=\"text-align: right;\">\n",
       "      <th></th>\n",
       "      <th>title</th>\n",
       "      <th>publication</th>\n",
       "      <th>authors</th>\n",
       "      <th>date</th>\n",
       "      <th>year</th>\n",
       "      <th>month</th>\n",
       "      <th>url</th>\n",
       "      <th>content</th>\n",
       "      <th>content_size</th>\n",
       "      <th>word_count</th>\n",
       "      <th>domain</th>\n",
       "      <th>label</th>\n",
       "      <th>bias_name</th>\n",
       "      <th>level</th>\n",
       "    </tr>\n",
       "  </thead>\n",
       "  <tbody>\n",
       "    <tr>\n",
       "      <th>0</th>\n",
       "      <td>Voicemail shows Trump lawyer asking Flynn's fo...</td>\n",
       "      <td>https://www.foxnews.com</td>\n",
       "      <td>['Greg Wilson']</td>\n",
       "      <td>NaN</td>\n",
       "      <td>NaN</td>\n",
       "      <td>NaN</td>\n",
       "      <td>https://www.foxnews.com/politics/voicemail-sho...</td>\n",
       "      <td>President Trump's one-time attorney asked Mich...</td>\n",
       "      <td>2904</td>\n",
       "      <td>459</td>\n",
       "      <td>foxnews.com</td>\n",
       "      <td>1.0</td>\n",
       "      <td>conservative</td>\n",
       "      <td>2</td>\n",
       "    </tr>\n",
       "    <tr>\n",
       "      <th>1</th>\n",
       "      <td>Trump defies close advisers in deciding to thr...</td>\n",
       "      <td>https://www.washingtonpost.com</td>\n",
       "      <td>['Seung Min Kim', 'White House Reporter', 'Jos...</td>\n",
       "      <td>05-31-2019</td>\n",
       "      <td>2019.0</td>\n",
       "      <td>5.0</td>\n",
       "      <td>https://www.washingtonpost.com/politics/trump-...</td>\n",
       "      <td>President Trump speaks to reporters a the Whit...</td>\n",
       "      <td>9759</td>\n",
       "      <td>1530</td>\n",
       "      <td>washingtonpost.com</td>\n",
       "      <td>0.0</td>\n",
       "      <td>liberal</td>\n",
       "      <td>1</td>\n",
       "    </tr>\n",
       "    <tr>\n",
       "      <th>4</th>\n",
       "      <td>Trump to Kick Off His Re-election Campaign on ...</td>\n",
       "      <td>https://www.nytimes.com</td>\n",
       "      <td>['Annie Karni', 'Maggie Haberman']</td>\n",
       "      <td>05-31-2019</td>\n",
       "      <td>2019.0</td>\n",
       "      <td>5.0</td>\n",
       "      <td>https://www.nytimes.com/2019/05/31/us/politics...</td>\n",
       "      <td>Mr. Trump has been staging “Make America Great...</td>\n",
       "      <td>1964</td>\n",
       "      <td>327</td>\n",
       "      <td>nytimes.com</td>\n",
       "      <td>0.0</td>\n",
       "      <td>liberal</td>\n",
       "      <td>1</td>\n",
       "    </tr>\n",
       "    <tr>\n",
       "      <th>5</th>\n",
       "      <td>Trump administration to send DHS agents, inves...</td>\n",
       "      <td>https://www.washingtonpost.com</td>\n",
       "      <td>['Nick Miroff', 'Reporter Covering Immigration...</td>\n",
       "      <td>05-31-2019</td>\n",
       "      <td>2019.0</td>\n",
       "      <td>5.0</td>\n",
       "      <td>https://www.washingtonpost.com/immigration/tru...</td>\n",
       "      <td>\\n\\nHonduran migrants, part of a caravan tryin...</td>\n",
       "      <td>8661</td>\n",
       "      <td>1355</td>\n",
       "      <td>washingtonpost.com</td>\n",
       "      <td>0.0</td>\n",
       "      <td>liberal</td>\n",
       "      <td>1</td>\n",
       "    </tr>\n",
       "    <tr>\n",
       "      <th>9</th>\n",
       "      <td>William Barr dishes on what Huber, Horowitz, a...</td>\n",
       "      <td>https://www.washingtonexaminer.com</td>\n",
       "      <td>[]</td>\n",
       "      <td>05-31-2019</td>\n",
       "      <td>2019.0</td>\n",
       "      <td>5.0</td>\n",
       "      <td>https://www.washingtonexaminer.com/news/willia...</td>\n",
       "      <td>Attorney General William Barr gave his cleares...</td>\n",
       "      <td>5583</td>\n",
       "      <td>899</td>\n",
       "      <td>washingtonexaminer.com</td>\n",
       "      <td>1.0</td>\n",
       "      <td>conservative</td>\n",
       "      <td>1</td>\n",
       "    </tr>\n",
       "  </tbody>\n",
       "</table>\n",
       "</div>"
      ],
      "text/plain": [
       "                                               title  \\\n",
       "0  Voicemail shows Trump lawyer asking Flynn's fo...   \n",
       "1  Trump defies close advisers in deciding to thr...   \n",
       "4  Trump to Kick Off His Re-election Campaign on ...   \n",
       "5  Trump administration to send DHS agents, inves...   \n",
       "9  William Barr dishes on what Huber, Horowitz, a...   \n",
       "\n",
       "                          publication  \\\n",
       "0             https://www.foxnews.com   \n",
       "1      https://www.washingtonpost.com   \n",
       "4             https://www.nytimes.com   \n",
       "5      https://www.washingtonpost.com   \n",
       "9  https://www.washingtonexaminer.com   \n",
       "\n",
       "                                             authors        date    year  \\\n",
       "0                                    ['Greg Wilson']         NaN     NaN   \n",
       "1  ['Seung Min Kim', 'White House Reporter', 'Jos...  05-31-2019  2019.0   \n",
       "4                 ['Annie Karni', 'Maggie Haberman']  05-31-2019  2019.0   \n",
       "5  ['Nick Miroff', 'Reporter Covering Immigration...  05-31-2019  2019.0   \n",
       "9                                                 []  05-31-2019  2019.0   \n",
       "\n",
       "   month                                                url  \\\n",
       "0    NaN  https://www.foxnews.com/politics/voicemail-sho...   \n",
       "1    5.0  https://www.washingtonpost.com/politics/trump-...   \n",
       "4    5.0  https://www.nytimes.com/2019/05/31/us/politics...   \n",
       "5    5.0  https://www.washingtonpost.com/immigration/tru...   \n",
       "9    5.0  https://www.washingtonexaminer.com/news/willia...   \n",
       "\n",
       "                                             content  content_size  \\\n",
       "0  President Trump's one-time attorney asked Mich...          2904   \n",
       "1  President Trump speaks to reporters a the Whit...          9759   \n",
       "4  Mr. Trump has been staging “Make America Great...          1964   \n",
       "5  \\n\\nHonduran migrants, part of a caravan tryin...          8661   \n",
       "9  Attorney General William Barr gave his cleares...          5583   \n",
       "\n",
       "   word_count                  domain  label     bias_name  level  \n",
       "0         459             foxnews.com    1.0  conservative      2  \n",
       "1        1530      washingtonpost.com    0.0       liberal      1  \n",
       "4         327             nytimes.com    0.0       liberal      1  \n",
       "5        1355      washingtonpost.com    0.0       liberal      1  \n",
       "9         899  washingtonexaminer.com    1.0  conservative      1  "
      ]
     },
     "execution_count": 39,
     "metadata": {},
     "output_type": "execute_result"
    }
   ],
   "source": [
    "selected_dataset.head()"
   ]
  },
  {
   "cell_type": "markdown",
   "metadata": {},
   "source": [
    "### Classes balance"
   ]
  },
  {
   "cell_type": "code",
   "execution_count": 40,
   "metadata": {},
   "outputs": [],
   "source": [
    "news_count = selected_dataset.groupby([\"domain\", \"bias_name\", \"level\"]).count()[\"publication\"].reset_index()\n",
    "news_count.columns = [\"domain\", \"bias_name\", \"level\", \"count\"]"
   ]
  },
  {
   "cell_type": "code",
   "execution_count": 41,
   "metadata": {},
   "outputs": [
    {
     "data": {
      "text/html": [
       "<div>\n",
       "<style scoped>\n",
       "    .dataframe tbody tr th:only-of-type {\n",
       "        vertical-align: middle;\n",
       "    }\n",
       "\n",
       "    .dataframe tbody tr th {\n",
       "        vertical-align: top;\n",
       "    }\n",
       "\n",
       "    .dataframe thead th {\n",
       "        text-align: right;\n",
       "    }\n",
       "</style>\n",
       "<table border=\"1\" class=\"dataframe\">\n",
       "  <thead>\n",
       "    <tr style=\"text-align: right;\">\n",
       "      <th></th>\n",
       "      <th>domain</th>\n",
       "      <th>bias_name</th>\n",
       "      <th>level</th>\n",
       "      <th>count</th>\n",
       "    </tr>\n",
       "  </thead>\n",
       "  <tbody>\n",
       "    <tr>\n",
       "      <th>0</th>\n",
       "      <td>bbc.com</td>\n",
       "      <td>central</td>\n",
       "      <td>0</td>\n",
       "      <td>564</td>\n",
       "    </tr>\n",
       "    <tr>\n",
       "      <th>1</th>\n",
       "      <td>cnn.com</td>\n",
       "      <td>liberal</td>\n",
       "      <td>2</td>\n",
       "      <td>1685</td>\n",
       "    </tr>\n",
       "    <tr>\n",
       "      <th>2</th>\n",
       "      <td>dailycaller.com</td>\n",
       "      <td>conservative</td>\n",
       "      <td>2</td>\n",
       "      <td>8</td>\n",
       "    </tr>\n",
       "    <tr>\n",
       "      <th>3</th>\n",
       "      <td>dailywire.com</td>\n",
       "      <td>conservative</td>\n",
       "      <td>2</td>\n",
       "      <td>642</td>\n",
       "    </tr>\n",
       "    <tr>\n",
       "      <th>4</th>\n",
       "      <td>fivethirtyeight.com</td>\n",
       "      <td>central</td>\n",
       "      <td>0</td>\n",
       "      <td>92</td>\n",
       "    </tr>\n",
       "    <tr>\n",
       "      <th>5</th>\n",
       "      <td>forbes.com</td>\n",
       "      <td>central</td>\n",
       "      <td>0</td>\n",
       "      <td>719</td>\n",
       "    </tr>\n",
       "    <tr>\n",
       "      <th>6</th>\n",
       "      <td>foxnews.com</td>\n",
       "      <td>conservative</td>\n",
       "      <td>2</td>\n",
       "      <td>1018</td>\n",
       "    </tr>\n",
       "    <tr>\n",
       "      <th>7</th>\n",
       "      <td>motherjones.com</td>\n",
       "      <td>liberal</td>\n",
       "      <td>2</td>\n",
       "      <td>137</td>\n",
       "    </tr>\n",
       "    <tr>\n",
       "      <th>8</th>\n",
       "      <td>msnbc.com</td>\n",
       "      <td>liberal</td>\n",
       "      <td>2</td>\n",
       "      <td>102</td>\n",
       "    </tr>\n",
       "    <tr>\n",
       "      <th>9</th>\n",
       "      <td>nbcnews.com</td>\n",
       "      <td>liberal</td>\n",
       "      <td>1</td>\n",
       "      <td>593</td>\n",
       "    </tr>\n",
       "    <tr>\n",
       "      <th>10</th>\n",
       "      <td>newyorker.com</td>\n",
       "      <td>liberal</td>\n",
       "      <td>2</td>\n",
       "      <td>5</td>\n",
       "    </tr>\n",
       "    <tr>\n",
       "      <th>11</th>\n",
       "      <td>nypost.com</td>\n",
       "      <td>conservative</td>\n",
       "      <td>2</td>\n",
       "      <td>18</td>\n",
       "    </tr>\n",
       "    <tr>\n",
       "      <th>12</th>\n",
       "      <td>nytimes.com</td>\n",
       "      <td>liberal</td>\n",
       "      <td>1</td>\n",
       "      <td>213</td>\n",
       "    </tr>\n",
       "    <tr>\n",
       "      <th>13</th>\n",
       "      <td>reason.com</td>\n",
       "      <td>conservative</td>\n",
       "      <td>1</td>\n",
       "      <td>67</td>\n",
       "    </tr>\n",
       "    <tr>\n",
       "      <th>14</th>\n",
       "      <td>reuters.com</td>\n",
       "      <td>central</td>\n",
       "      <td>0</td>\n",
       "      <td>72</td>\n",
       "    </tr>\n",
       "    <tr>\n",
       "      <th>15</th>\n",
       "      <td>slate.com</td>\n",
       "      <td>liberal</td>\n",
       "      <td>2</td>\n",
       "      <td>687</td>\n",
       "    </tr>\n",
       "    <tr>\n",
       "      <th>16</th>\n",
       "      <td>spectator.org</td>\n",
       "      <td>conservative</td>\n",
       "      <td>2</td>\n",
       "      <td>189</td>\n",
       "    </tr>\n",
       "    <tr>\n",
       "      <th>17</th>\n",
       "      <td>theatlantic.com</td>\n",
       "      <td>liberal</td>\n",
       "      <td>1</td>\n",
       "      <td>18</td>\n",
       "    </tr>\n",
       "    <tr>\n",
       "      <th>18</th>\n",
       "      <td>theblaze.com</td>\n",
       "      <td>conservative</td>\n",
       "      <td>2</td>\n",
       "      <td>793</td>\n",
       "    </tr>\n",
       "    <tr>\n",
       "      <th>19</th>\n",
       "      <td>thefederalist.com</td>\n",
       "      <td>conservative</td>\n",
       "      <td>2</td>\n",
       "      <td>442</td>\n",
       "    </tr>\n",
       "    <tr>\n",
       "      <th>20</th>\n",
       "      <td>theguardian.com</td>\n",
       "      <td>liberal</td>\n",
       "      <td>1</td>\n",
       "      <td>61</td>\n",
       "    </tr>\n",
       "    <tr>\n",
       "      <th>21</th>\n",
       "      <td>washingtonexaminer.com</td>\n",
       "      <td>conservative</td>\n",
       "      <td>1</td>\n",
       "      <td>171</td>\n",
       "    </tr>\n",
       "    <tr>\n",
       "      <th>22</th>\n",
       "      <td>washingtonpost.com</td>\n",
       "      <td>liberal</td>\n",
       "      <td>1</td>\n",
       "      <td>158</td>\n",
       "    </tr>\n",
       "    <tr>\n",
       "      <th>23</th>\n",
       "      <td>washingtontimes.com</td>\n",
       "      <td>conservative</td>\n",
       "      <td>1</td>\n",
       "      <td>72</td>\n",
       "    </tr>\n",
       "  </tbody>\n",
       "</table>\n",
       "</div>"
      ],
      "text/plain": [
       "                    domain     bias_name  level  count\n",
       "0                  bbc.com       central      0    564\n",
       "1                  cnn.com       liberal      2   1685\n",
       "2          dailycaller.com  conservative      2      8\n",
       "3            dailywire.com  conservative      2    642\n",
       "4      fivethirtyeight.com       central      0     92\n",
       "5               forbes.com       central      0    719\n",
       "6              foxnews.com  conservative      2   1018\n",
       "7          motherjones.com       liberal      2    137\n",
       "8                msnbc.com       liberal      2    102\n",
       "9              nbcnews.com       liberal      1    593\n",
       "10           newyorker.com       liberal      2      5\n",
       "11              nypost.com  conservative      2     18\n",
       "12             nytimes.com       liberal      1    213\n",
       "13              reason.com  conservative      1     67\n",
       "14             reuters.com       central      0     72\n",
       "15               slate.com       liberal      2    687\n",
       "16           spectator.org  conservative      2    189\n",
       "17         theatlantic.com       liberal      1     18\n",
       "18            theblaze.com  conservative      2    793\n",
       "19       thefederalist.com  conservative      2    442\n",
       "20         theguardian.com       liberal      1     61\n",
       "21  washingtonexaminer.com  conservative      1    171\n",
       "22      washingtonpost.com       liberal      1    158\n",
       "23     washingtontimes.com  conservative      1     72"
      ]
     },
     "execution_count": 41,
     "metadata": {},
     "output_type": "execute_result"
    }
   ],
   "source": [
    "news_count"
   ]
  },
  {
   "cell_type": "markdown",
   "metadata": {},
   "source": [
    "**Number of articles by news sources**"
   ]
  },
  {
   "cell_type": "code",
   "execution_count": 42,
   "metadata": {},
   "outputs": [
    {
     "data": {
      "image/png": "[encoded data removed]",
      "text/plain": [
       "<Figure size 432x288 with 1 Axes>"
      ]
     },
     "metadata": {
      "needs_background": "light"
     },
     "output_type": "display_data"
    }
   ],
   "source": [
    "news_count.plot(kind=\"bar\", x=\"domain\", y=\"count\");"
   ]
  },
  {
   "cell_type": "markdown",
   "metadata": {},
   "source": [
    "**Number of articles by bias**"
   ]
  },
  {
   "cell_type": "code",
   "execution_count": 43,
   "metadata": {},
   "outputs": [],
   "source": [
    "bias_count = news_count.groupby(\"bias_name\").sum().reset_index()\n",
    "bias_count[\"percentage\"] = bias_count[\"count\"] / bias_count[\"count\"].sum() * 100\n",
    "bias_count = bias_count[[\"bias_name\", \"percentage\", \"count\"]]"
   ]
  },
  {
   "cell_type": "code",
   "execution_count": 44,
   "metadata": {},
   "outputs": [
    {
     "data": {
      "text/html": [
       "<div>\n",
       "<style scoped>\n",
       "    .dataframe tbody tr th:only-of-type {\n",
       "        vertical-align: middle;\n",
       "    }\n",
       "\n",
       "    .dataframe tbody tr th {\n",
       "        vertical-align: top;\n",
       "    }\n",
       "\n",
       "    .dataframe thead th {\n",
       "        text-align: right;\n",
       "    }\n",
       "</style>\n",
       "<table border=\"1\" class=\"dataframe\">\n",
       "  <thead>\n",
       "    <tr style=\"text-align: right;\">\n",
       "      <th></th>\n",
       "      <th>bias_name</th>\n",
       "      <th>percentage</th>\n",
       "      <th>count</th>\n",
       "    </tr>\n",
       "  </thead>\n",
       "  <tbody>\n",
       "    <tr>\n",
       "      <th>0</th>\n",
       "      <td>central</td>\n",
       "      <td>16.971616</td>\n",
       "      <td>1447</td>\n",
       "    </tr>\n",
       "    <tr>\n",
       "      <th>1</th>\n",
       "      <td>conservative</td>\n",
       "      <td>40.112597</td>\n",
       "      <td>3420</td>\n",
       "    </tr>\n",
       "    <tr>\n",
       "      <th>2</th>\n",
       "      <td>liberal</td>\n",
       "      <td>42.915787</td>\n",
       "      <td>3659</td>\n",
       "    </tr>\n",
       "  </tbody>\n",
       "</table>\n",
       "</div>"
      ],
      "text/plain": [
       "      bias_name  percentage  count\n",
       "0       central   16.971616   1447\n",
       "1  conservative   40.112597   3420\n",
       "2       liberal   42.915787   3659"
      ]
     },
     "execution_count": 44,
     "metadata": {},
     "output_type": "execute_result"
    }
   ],
   "source": [
    "bias_count"
   ]
  },
  {
   "cell_type": "code",
   "execution_count": 45,
   "metadata": {},
   "outputs": [
    {
     "data": {
      "image/png": "[encoded data removed]",
      "text/plain": [
       "<Figure size 432x288 with 1 Axes>"
      ]
     },
     "metadata": {},
     "output_type": "display_data"
    }
   ],
   "source": [
    "bias_count.set_index(\"bias_name\").plot(kind=\"pie\", y=\"count\", legend=None);"
   ]
  },
  {
   "cell_type": "markdown",
   "metadata": {},
   "source": [
    "**Number or articles by level**"
   ]
  },
  {
   "cell_type": "code",
   "execution_count": null,
   "metadata": {},
   "outputs": [],
   "source": [
    "news_by_level = pd.pivot_table(news_count[news_count[\"level\"] > 0], columns=\"bias_name\", index=\"level\", aggfunc=np.sum)\n",
    "news_by_level.columns = news_by_level.columns.droplevel()"
   ]
  },
  {
   "cell_type": "code",
   "execution_count": null,
   "metadata": {},
   "outputs": [],
   "source": [
    "news_by_level.plot.bar(stacked=True);"
   ]
  },
  {
   "cell_type": "code",
   "execution_count": null,
   "metadata": {},
   "outputs": [],
   "source": [
    "news_by_level"
   ]
  },
  {
   "cell_type": "markdown",
   "metadata": {},
   "source": [
    "### Exporting data"
   ]
  },
  {
   "cell_type": "code",
   "execution_count": null,
   "metadata": {},
   "outputs": [],
   "source": [
    "# selected_dataset.to_csv(\"../data_processed/selected_articles_webhose_google_news.csv\")"
   ]
  },
  {
   "cell_type": "code",
   "execution_count": null,
   "metadata": {},
   "outputs": [],
   "source": []
  }
 ],
 "metadata": {
  "kernelspec": {
   "display_name": "Python 3",
   "language": "python",
   "name": "python3"
  },
  "language_info": {
   "codemirror_mode": {
    "name": "ipython",
    "version": 3
   },
   "file_extension": ".py",
   "mimetype": "text/x-python",
   "name": "python",
   "nbconvert_exporter": "python",
   "pygments_lexer": "ipython3",
   "version": "3.7.2"
  }
 },
 "nbformat": 4,
 "nbformat_minor": 2
}
