{
 "cells": [
  {
   "cell_type": "markdown",
   "metadata": {},
   "source": [
    "# Baseline Models"
   ]
  },
  {
   "cell_type": "markdown",
   "metadata": {},
   "source": [
    "The purpose of this exercise is to define a basseline model for Deep Learning models in this project"
   ]
  },
  {
   "cell_type": "code",
   "execution_count": 43,
   "metadata": {},
   "outputs": [],
   "source": [
    "from sklearn.model_selection import train_test_split\n",
    "import pandas as pd\n",
    "from sklearn.feature_extraction.text import TfidfVectorizer\n",
    "from sklearn.linear_model import LogisticRegression\n",
    "from sklearn.tree import DecisionTreeClassifier\n",
    "from sklearn.metrics import confusion_matrix, classification_report\n",
    "import matplotlib\n",
    "import matplotlib.pyplot as plt\n",
    "import seaborn as sns\n",
    "plt.style.use('ggplot')"
   ]
  },
  {
   "cell_type": "code",
   "execution_count": 64,
   "metadata": {},
   "outputs": [],
   "source": [
    "matplotlib.rcParams.update({'font.size': 18})"
   ]
  },
  {
   "cell_type": "markdown",
   "metadata": {},
   "source": [
    "### Loading the dataset"
   ]
  },
  {
   "cell_type": "code",
   "execution_count": 9,
   "metadata": {},
   "outputs": [],
   "source": [
    "dataset = pd.read_csv(\"../data_processed/webhose_google_news_2019_06_28.csv\").reset_index(drop=True)"
   ]
  },
  {
   "cell_type": "code",
   "execution_count": 10,
   "metadata": {},
   "outputs": [],
   "source": [
    "dataset = dataset[dataset[\"label\"] >= 0]"
   ]
  },
  {
   "cell_type": "code",
   "execution_count": 11,
   "metadata": {},
   "outputs": [
    {
     "data": {
      "text/plain": [
       "(7079, 11)"
      ]
     },
     "execution_count": 11,
     "metadata": {},
     "output_type": "execute_result"
    }
   ],
   "source": [
    "dataset.shape"
   ]
  },
  {
   "cell_type": "code",
   "execution_count": 3,
   "metadata": {},
   "outputs": [],
   "source": []
  },
  {
   "cell_type": "markdown",
   "metadata": {},
   "source": [
    "Spliting into train and test sets, using 25% of the dataset as testing"
   ]
  },
  {
   "cell_type": "code",
   "execution_count": 12,
   "metadata": {},
   "outputs": [],
   "source": [
    "dataset_train, dataset_test = train_test_split(dataset, test_size=0.25, random_state=1000)"
   ]
  },
  {
   "cell_type": "code",
   "execution_count": 16,
   "metadata": {},
   "outputs": [],
   "source": [
    "content_train = dataset_train[\"content\"].values\n",
    "content_test = dataset_test[\"content\"].values\n",
    "label_train = dataset_train[\"label\"].values\n",
    "label_test = dataset_test[\"label\"].values"
   ]
  },
  {
   "cell_type": "code",
   "execution_count": 14,
   "metadata": {},
   "outputs": [],
   "source": [
    "# class_count = pd.concat([\n",
    "#     pd.DataFrame({\"label\": y_test, \"test\": 0}).groupby(\"label\").count(),\n",
    "#     pd.DataFrame({\"label\": y_train, \"train\": 0}).groupby(\"label\").count()   \n",
    "# ], axis=1)"
   ]
  },
  {
   "cell_type": "code",
   "execution_count": 15,
   "metadata": {},
   "outputs": [],
   "source": [
    "# class_count.plot(kind=\"bar\", subplots=True, figsize=(16,8), autopct=\"%.2f\");"
   ]
  },
  {
   "cell_type": "markdown",
   "metadata": {},
   "source": [
    "The class balance seems to be similar for train and test datasets."
   ]
  },
  {
   "cell_type": "markdown",
   "metadata": {},
   "source": [
    "### Transforming text"
   ]
  },
  {
   "cell_type": "markdown",
   "metadata": {},
   "source": [
    "Using counting vectorizer"
   ]
  },
  {
   "cell_type": "code",
   "execution_count": 17,
   "metadata": {},
   "outputs": [],
   "source": [
    "vectorizer = TfidfVectorizer()"
   ]
  },
  {
   "cell_type": "code",
   "execution_count": 18,
   "metadata": {},
   "outputs": [
    {
     "data": {
      "text/plain": [
       "TfidfVectorizer(analyzer='word', binary=False, decode_error='strict',\n",
       "                dtype=<class 'numpy.float64'>, encoding='utf-8',\n",
       "                input='content', lowercase=True, max_df=1.0, max_features=None,\n",
       "                min_df=1, ngram_range=(1, 1), norm='l2', preprocessor=None,\n",
       "                smooth_idf=True, stop_words=None, strip_accents=None,\n",
       "                sublinear_tf=False, token_pattern='(?u)\\\\b\\\\w\\\\w+\\\\b',\n",
       "                tokenizer=None, use_idf=True, vocabulary=None)"
      ]
     },
     "execution_count": 18,
     "metadata": {},
     "output_type": "execute_result"
    }
   ],
   "source": [
    "vectorizer.fit(content_train)"
   ]
  },
  {
   "cell_type": "code",
   "execution_count": 26,
   "metadata": {},
   "outputs": [],
   "source": [
    "X_train = vectorizer.transform(content_train)\n",
    "y_train = label_train"
   ]
  },
  {
   "cell_type": "code",
   "execution_count": 27,
   "metadata": {},
   "outputs": [],
   "source": [
    "X_test  = vectorizer.transform(content_test)\n",
    "y_test = label_test"
   ]
  },
  {
   "cell_type": "markdown",
   "metadata": {},
   "source": [
    "### Training models"
   ]
  },
  {
   "cell_type": "code",
   "execution_count": 28,
   "metadata": {},
   "outputs": [],
   "source": [
    "def train_classifiers(models, X_train, y_train):\n",
    "    results = {}\n",
    "    for name, model in models.items():\n",
    "        classifier = model()\n",
    "        classifier.fit(X_train, y_train)\n",
    "        results[name] = classifier\n",
    "        \n",
    "    return results"
   ]
  },
  {
   "cell_type": "code",
   "execution_count": 29,
   "metadata": {},
   "outputs": [],
   "source": [
    "def print_report(name, report):\n",
    "    print(\"====================================================\")\n",
    "    print(name)\n",
    "    print(\"====================================================\")\n",
    "    print(report)    "
   ]
  },
  {
   "cell_type": "code",
   "execution_count": 30,
   "metadata": {},
   "outputs": [],
   "source": [
    "def print_results(results, X_test, y_test):\n",
    "    for name, classifier in results.items():\n",
    "        y_pred = classifier.predict(X_test)\n",
    "        report = classification_report(y_test, y_pred)\n",
    "        print_report(name, report)"
   ]
  },
  {
   "cell_type": "code",
   "execution_count": 31,
   "metadata": {},
   "outputs": [],
   "source": [
    "models = {\n",
    "    \"Logistic Regression\": LogisticRegression,\n",
    "    \"Decision Tree\": DecisionTreeClassifier\n",
    "}"
   ]
  },
  {
   "cell_type": "code",
   "execution_count": 32,
   "metadata": {},
   "outputs": [
    {
     "name": "stderr",
     "output_type": "stream",
     "text": [
      "/Users/cristianoaguiar/.pyenv/versions/3.7.2/envs/sm-project/lib/python3.7/site-packages/sklearn/linear_model/logistic.py:432: FutureWarning: Default solver will be changed to 'lbfgs' in 0.22. Specify a solver to silence this warning.\n",
      "  FutureWarning)\n"
     ]
    }
   ],
   "source": [
    "results = train_classifiers(models, X_train, y_train)"
   ]
  },
  {
   "cell_type": "code",
   "execution_count": 33,
   "metadata": {},
   "outputs": [
    {
     "name": "stdout",
     "output_type": "stream",
     "text": [
      "====================================================\n",
      "Logistic Regression\n",
      "====================================================\n",
      "              precision    recall  f1-score   support\n",
      "\n",
      "           0       0.84      0.88      0.86       945\n",
      "           1       0.85      0.82      0.83       825\n",
      "\n",
      "    accuracy                           0.85      1770\n",
      "   macro avg       0.85      0.85      0.85      1770\n",
      "weighted avg       0.85      0.85      0.85      1770\n",
      "\n",
      "====================================================\n",
      "Decision Tree\n",
      "====================================================\n",
      "              precision    recall  f1-score   support\n",
      "\n",
      "           0       0.83      0.82      0.82       945\n",
      "           1       0.80      0.80      0.80       825\n",
      "\n",
      "    accuracy                           0.81      1770\n",
      "   macro avg       0.81      0.81      0.81      1770\n",
      "weighted avg       0.81      0.81      0.81      1770\n",
      "\n"
     ]
    }
   ],
   "source": [
    "print_results(results, X_test, y_test)"
   ]
  },
  {
   "cell_type": "code",
   "execution_count": 67,
   "metadata": {},
   "outputs": [],
   "source": [
    "data_grouped = []\n",
    "for name, group in dataset_test.groupby(\"domain\"):\n",
    "    X_test_group = vectorizer.transform(group[\"content\"])\n",
    "    y_pred_group = results[\"Decision Tree\"].predict(X_test_group)\n",
    "    conservative_count = y_pred_group.sum()\n",
    "    total = y_pred_group.shape[0]\n",
    "    liberal_count =  total - conservative_count\n",
    "    side = \"conservative\" if group[\"label\"].max() == 1 else \"liberal\"\n",
    "    data_grouped.append({\n",
    "        \"domain\": name,\n",
    "        \"liberal\": liberal_count,\n",
    "        \"conservative\": conservative_count,\n",
    "        \"side\": side,\n",
    "        \"total\": total\n",
    "    })\n",
    "data_grouped = pd.DataFrame(data_grouped).sort_values(\"total\", ascending=False).head(4)"
   ]
  },
  {
   "cell_type": "code",
   "execution_count": 68,
   "metadata": {},
   "outputs": [],
   "source": [
    "data_grouped[\"conservative\"] = data_grouped[\"conservative\"] / data_grouped[\"total\"] * 100\n",
    "data_grouped[\"liberal\"] = data_grouped[\"liberal\"] / data_grouped[\"total\"] * 100"
   ]
  },
  {
   "cell_type": "code",
   "execution_count": 70,
   "metadata": {},
   "outputs": [
    {
     "data": {
      "text/plain": [
       "[Text(0, 0.5, 'Percentage'),\n",
       " Text(0.5, 0, 'Sources'),\n",
       " Text(0.5, 1.0, 'Decision Tree')]"
      ]
     },
     "execution_count": 70,
     "metadata": {},
     "output_type": "execute_result"
    },
    {
     "data": {
      "image/png": "[encoded data removed]",
      "text/plain": [
       "<Figure size 864x576 with 1 Axes>"
      ]
     },
     "metadata": {},
     "output_type": "display_data"
    }
   ],
   "source": [
    "data_grouped = data_grouped.sort_values(\"side\")\n",
    "ax = data_grouped[[\"liberal\", \"conservative\", \"domain\"]].plot(kind=\"bar\", x=\"domain\", rot=0, figsize=(12,8));\n",
    "ax.set(xlabel=\"Sources\", ylabel=\"Percentage\", title=\"Decision Tree\")"
   ]
  },
  {
   "cell_type": "code",
   "execution_count": 61,
   "metadata": {},
   "outputs": [
    {
     "data": {
      "text/html": [
       "<div>\n",
       "<style scoped>\n",
       "    .dataframe tbody tr th:only-of-type {\n",
       "        vertical-align: middle;\n",
       "    }\n",
       "\n",
       "    .dataframe tbody tr th {\n",
       "        vertical-align: top;\n",
       "    }\n",
       "\n",
       "    .dataframe thead th {\n",
       "        text-align: right;\n",
       "    }\n",
       "</style>\n",
       "<table border=\"1\" class=\"dataframe\">\n",
       "  <thead>\n",
       "    <tr style=\"text-align: right;\">\n",
       "      <th></th>\n",
       "      <th>conservative</th>\n",
       "      <th>domain</th>\n",
       "      <th>liberal</th>\n",
       "      <th>side</th>\n",
       "      <th>total</th>\n",
       "    </tr>\n",
       "  </thead>\n",
       "  <tbody>\n",
       "    <tr>\n",
       "      <th>0</th>\n",
       "      <td>6.759907</td>\n",
       "      <td>cnn.com</td>\n",
       "      <td>93.240093</td>\n",
       "      <td>liberal</td>\n",
       "      <td>429</td>\n",
       "    </tr>\n",
       "    <tr>\n",
       "      <th>3</th>\n",
       "      <td>81.200000</td>\n",
       "      <td>foxnews.com</td>\n",
       "      <td>18.800000</td>\n",
       "      <td>conservative</td>\n",
       "      <td>250</td>\n",
       "    </tr>\n",
       "    <tr>\n",
       "      <th>14</th>\n",
       "      <td>86.702128</td>\n",
       "      <td>theblaze.com</td>\n",
       "      <td>13.297872</td>\n",
       "      <td>conservative</td>\n",
       "      <td>188</td>\n",
       "    </tr>\n",
       "    <tr>\n",
       "      <th>11</th>\n",
       "      <td>19.411765</td>\n",
       "      <td>slate.com</td>\n",
       "      <td>80.588235</td>\n",
       "      <td>liberal</td>\n",
       "      <td>170</td>\n",
       "    </tr>\n",
       "  </tbody>\n",
       "</table>\n",
       "</div>"
      ],
      "text/plain": [
       "    conservative        domain    liberal          side  total\n",
       "0       6.759907       cnn.com  93.240093       liberal    429\n",
       "3      81.200000   foxnews.com  18.800000  conservative    250\n",
       "14     86.702128  theblaze.com  13.297872  conservative    188\n",
       "11     19.411765     slate.com  80.588235       liberal    170"
      ]
     },
     "execution_count": 61,
     "metadata": {},
     "output_type": "execute_result"
    }
   ],
   "source": [
    "data_grouped"
   ]
  },
  {
   "cell_type": "markdown",
   "metadata": {},
   "source": [
    "### Predictions"
   ]
  },
  {
   "cell_type": "code",
   "execution_count": 73,
   "metadata": {},
   "outputs": [],
   "source": [
    "out_of_sample_dataset = pd.read_csv(\"../data_processed/ALL_NEWS_bias_label.csv\")"
   ]
  },
  {
   "cell_type": "code",
   "execution_count": 74,
   "metadata": {},
   "outputs": [
    {
     "data": {
      "text/html": [
       "<div>\n",
       "<style scoped>\n",
       "    .dataframe tbody tr th:only-of-type {\n",
       "        vertical-align: middle;\n",
       "    }\n",
       "\n",
       "    .dataframe tbody tr th {\n",
       "        vertical-align: top;\n",
       "    }\n",
       "\n",
       "    .dataframe thead th {\n",
       "        text-align: right;\n",
       "    }\n",
       "</style>\n",
       "<table border=\"1\" class=\"dataframe\">\n",
       "  <thead>\n",
       "    <tr style=\"text-align: right;\">\n",
       "      <th></th>\n",
       "      <th>content</th>\n",
       "      <th>label</th>\n",
       "    </tr>\n",
       "  </thead>\n",
       "  <tbody>\n",
       "    <tr>\n",
       "      <th>0</th>\n",
       "      <td>republican presidential candidate ben carson s...</td>\n",
       "      <td>1</td>\n",
       "    </tr>\n",
       "    <tr>\n",
       "      <th>1</th>\n",
       "      <td>a nasty battle has broken out in the republica...</td>\n",
       "      <td>1</td>\n",
       "    </tr>\n",
       "    <tr>\n",
       "      <th>2</th>\n",
       "      <td>donald trump launched new attacks against bill...</td>\n",
       "      <td>1</td>\n",
       "    </tr>\n",
       "    <tr>\n",
       "      <th>3</th>\n",
       "      <td>the plunge in oil prices has given a needed br...</td>\n",
       "      <td>1</td>\n",
       "    </tr>\n",
       "    <tr>\n",
       "      <th>4</th>\n",
       "      <td>president obama said on friday he will meet wi...</td>\n",
       "      <td>1</td>\n",
       "    </tr>\n",
       "  </tbody>\n",
       "</table>\n",
       "</div>"
      ],
      "text/plain": [
       "                                             content  label\n",
       "0  republican presidential candidate ben carson s...      1\n",
       "1  a nasty battle has broken out in the republica...      1\n",
       "2  donald trump launched new attacks against bill...      1\n",
       "3  the plunge in oil prices has given a needed br...      1\n",
       "4  president obama said on friday he will meet wi...      1"
      ]
     },
     "execution_count": 74,
     "metadata": {},
     "output_type": "execute_result"
    }
   ],
   "source": [
    "out_of_sample_dataset.head()"
   ]
  },
  {
   "cell_type": "code",
   "execution_count": 76,
   "metadata": {},
   "outputs": [],
   "source": [
    "content_oos = out_of_sample_dataset[\"content\"].values\n",
    "y_oos = out_of_sample_dataset[\"label\"].values\n",
    "X_oos = vectorizer.transform(content_oos)"
   ]
  },
  {
   "cell_type": "code",
   "execution_count": 77,
   "metadata": {},
   "outputs": [
    {
     "name": "stdout",
     "output_type": "stream",
     "text": [
      "====================================================\n",
      "Logistic Regression\n",
      "====================================================\n",
      "              precision    recall  f1-score   support\n",
      "\n",
      "           0       0.60      0.71      0.65      6590\n",
      "           1       0.63      0.52      0.57      6409\n",
      "\n",
      "    accuracy                           0.61     12999\n",
      "   macro avg       0.62      0.61      0.61     12999\n",
      "weighted avg       0.62      0.61      0.61     12999\n",
      "\n",
      "====================================================\n",
      "Decision Tree\n",
      "====================================================\n",
      "              precision    recall  f1-score   support\n",
      "\n",
      "           0       0.54      0.43      0.48      6590\n",
      "           1       0.51      0.62      0.56      6409\n",
      "\n",
      "    accuracy                           0.52     12999\n",
      "   macro avg       0.53      0.53      0.52     12999\n",
      "weighted avg       0.53      0.52      0.52     12999\n",
      "\n"
     ]
    }
   ],
   "source": [
    "print_results(results, X_oos, y_oos)"
   ]
  },
  {
   "cell_type": "code",
   "execution_count": null,
   "metadata": {},
   "outputs": [],
   "source": []
  }
 ],
 "metadata": {
  "kernelspec": {
   "display_name": "Python 3",
   "language": "python",
   "name": "python3"
  },
  "language_info": {
   "codemirror_mode": {
    "name": "ipython",
    "version": 3
   },
   "file_extension": ".py",
   "mimetype": "text/x-python",
   "name": "python",
   "nbconvert_exporter": "python",
   "pygments_lexer": "ipython3",
   "version": "3.7.2"
  }
 },
 "nbformat": 4,
 "nbformat_minor": 2
}
