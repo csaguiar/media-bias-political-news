{
 "cells": [
  {
   "cell_type": "code",
   "execution_count": 6,
   "metadata": {},
   "outputs": [],
   "source": [
    "import pandas as pd\n",
    "import numpy as np\n",
    "import pickle\n",
    "import json\n",
    "from scipy import spatial"
   ]
  },
  {
   "cell_type": "code",
   "execution_count": 11,
   "metadata": {},
   "outputs": [],
   "source": [
    "side = 'conservative'\n",
    "pickle_in = open(f'../data_processed/word_embeddings/wb_gn_2019_06_28_{side}_embedding_vocab.pickle', 'rb')\n",
    "embeddings = pickle.load(pickle_in)"
   ]
  },
  {
   "cell_type": "code",
   "execution_count": 12,
   "metadata": {},
   "outputs": [],
   "source": [
    "political_words = ['trump', 'president', 'people', 'state', 'house', 'report', 'news', 'mueller', 'american', 'government',\n",
    "                   'law', 'democrats', 'right', 'campaign', 'states', 'media', 'department', 'us', 'barr', 'political', 'white',\n",
    "                   'justice', 'world', 'public', 'democratic', 'country', 'investigation', 'court', 'border', 'national', 'left',\n",
    "                   'united', 'fbi', 'america', 'abortion', 'twitter', 'administration', 'attorney', 'women', 'biden', 'congress',\n",
    "                   'children', 'party', 'police', 'bill', 'security', 'committee', 'work', 'man', 'federal', 'washington', 'election',\n",
    "                   'policy', 'russia', 'family', 'officials', 'anti', 'counsel', 'donald', 'obama', 'statement', 'presidential', 'power',\n",
    "                   'war', 'rights', 'foreign', 'americans', 'care', 'social', 'fact', 'health', 'students', 'clinton',\n",
    "                   'intelligence', 'evidence', 'human', 'deal', 'believe', 'senate', 'free', 'woman', 'sanders', 'men', 'immigration',\n",
    "                   'change', 'point', 'rep', 'russian', 'republican', 'legal', 'speech', 'story', 'decision', 'director', 'system', 'child',\n",
    "                   'tax', 'mexico', 'history', 'money', 'crime', 'order', 'released', 'plan', 'military', 'secretary', 'vote',\n",
    "                   'illegal', 'israel', 'iran', 'politics', 'college', 'working', 'community', 'death', 'china', 'pelosi', 'nation',\n",
    "                   'republicans', 'control', 'black', 'god', 'job', 'california', 'criminal', 'conservative', 'candidate', 'official',\n",
    "                   'democrat', 'cortez', 'defense', 'omar', 'ocasio', 'impeachment', 'press', 'attack', 'reports', 'enforcement', 'attacks',\n",
    "                   'laws', 'accused', 'supreme', 'north', 'leader', 'church', 'amendment', 'crisis', 'tweet', 'gun', 'hillary', 'texas',\n",
    "                   'research', 'violence', 'freedom', 'policies', 'voters', 'executive', 'truth', 'charges', 'claimed', 'christian', 'warren',\n",
    "                   'civil', 'mayor', 'economic', 'majority', 'families', 'senior', 'hate', 'collusion', 'wall', 'race', 'source', 'education',\n",
    "                   'kids', 'buttigieg', 'actions', 'rule', 'flynn', 'immigrants', 'term', 'bernie', 'liberal', 'migrants', 'threat',\n",
    "                   'hope', 'authorities', 'documents', 'chairman', 'vice', 'candidates', 'countries', 'doj', 'surveillance', 'congressional',\n",
    "                   'society', 'faith', 'comey', 'medical', 'southern', 'economy', 'opinion', 'alleged', 'international', 'class', 'citizens',\n",
    "                   'star', 'sexual', 'union', 'legislation', 'british', 'guilty', 'jewish', 'jews', 'prison', 'climate', 'passed',\n",
    "                   'constitutional', 'probe', 'opposition', 'elected', 'debate', 'shooting', 'gay', 'primary', 'minister', 'conservatives',\n",
    "                   'asylum', 'gender', 'constitution', 'progressive', 'leadership', 'testimony', 'crimes', 'homeland', 'abortions', 'officers',\n",
    "                   'florida', 'terrorist', 'ban', 'dangerous', 'reporters', 'drug', 'muslim', 'tariffs', 'chinese', 'catholic', 'georgia', 'green',\n",
    "                   'racist', 'reporter', 'agencies', 'veterans', 'murder', 'schools', 'investigations', 'senator', 'jobs', 'employees', 'financial',\n",
    "                   'authority', 'fear', 'nuclear', 'red']"
   ]
  },
  {
   "cell_type": "code",
   "execution_count": 13,
   "metadata": {},
   "outputs": [],
   "source": [
    "distances = []\n",
    "for first_word in political_words:\n",
    "    for other_word in political_words:\n",
    "        if other_word != first_word:\n",
    "            distances.append({\n",
    "                'word1': first_word,\n",
    "                'word2': other_word,\n",
    "                'distance': spatial.distance.cosine(embeddings['embeddings'][embeddings['dictionary'][first_word]],\n",
    "                                                    embeddings['embeddings'][embeddings['dictionary'][other_word]])\n",
    "            })"
   ]
  },
  {
   "cell_type": "code",
   "execution_count": 14,
   "metadata": {},
   "outputs": [],
   "source": [
    "distances_df = pd.DataFrame(distances)\n",
    "distances_df.sort_values(['distance'])\n",
    "distances_df.to_csv('{}_embedding_distances.csv'.format(side), index=False)"
   ]
  },
  {
   "cell_type": "code",
   "execution_count": null,
   "metadata": {},
   "outputs": [],
   "source": [
    "# remove stop-words\n",
    "# cluster word embeddings and find clusters with the smallest proportion overlap of words when comparing conservative vs. liberal"
   ]
  }
 ],
 "metadata": {
  "kernelspec": {
   "display_name": "Python 3",
   "language": "python",
   "name": "python3"
  },
  "language_info": {
   "codemirror_mode": {
    "name": "ipython",
    "version": 3
   },
   "file_extension": ".py",
   "mimetype": "text/x-python",
   "name": "python",
   "nbconvert_exporter": "python",
   "pygments_lexer": "ipython3",
   "version": "3.7.1"
  }
 },
 "nbformat": 4,
 "nbformat_minor": 2
}
